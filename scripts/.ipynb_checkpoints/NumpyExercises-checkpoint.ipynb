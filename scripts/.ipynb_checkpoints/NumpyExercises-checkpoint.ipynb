{
 "cells": [
  {
   "cell_type": "markdown",
   "metadata": {},
   "source": [
    "# 100 Numpy Exercises "
   ]
  },
  {
   "cell_type": "markdown",
   "metadata": {},
   "source": [
    "Modified from https://github.com/rougier/numpy-100"
   ]
  },
  {
   "cell_type": "markdown",
   "metadata": {},
   "source": [
    "1. Import the numpy package under the name `np`"
   ]
  },
  {
   "cell_type": "code",
   "execution_count": 2,
   "metadata": {},
   "outputs": [],
   "source": [
    "import numpy as np"
   ]
  },
  {
   "cell_type": "markdown",
   "metadata": {},
   "source": [
    "2. Print the numpy version"
   ]
  },
  {
   "cell_type": "code",
   "execution_count": 2,
   "metadata": {},
   "outputs": [
    {
     "name": "stdout",
     "output_type": "stream",
     "text": [
      "<module 'numpy' from 'C:\\\\Users\\\\jam19e\\\\AppData\\\\Local\\\\Continuum\\\\anaconda3\\\\lib\\\\site-packages\\\\numpy\\\\__init__.py'>\n"
     ]
    }
   ],
   "source": [
    "print(np)"
   ]
  },
  {
   "cell_type": "markdown",
   "metadata": {},
   "source": [
    "3. Create a vector of 10 zeros ('null vector') and save it in a variable."
   ]
  },
  {
   "cell_type": "code",
   "execution_count": 18,
   "metadata": {},
   "outputs": [],
   "source": [
    "a_vec = np.zeros(10)\n"
   ]
  },
  {
   "cell_type": "code",
   "execution_count": 19,
   "metadata": {},
   "outputs": [
    {
     "data": {
      "text/plain": [
       "array([0., 0., 0., 0., 0., 0., 0., 0., 0., 0.])"
      ]
     },
     "execution_count": 19,
     "metadata": {},
     "output_type": "execute_result"
    }
   ],
   "source": [
    "a_vec"
   ]
  },
  {
   "cell_type": "markdown",
   "metadata": {},
   "source": [
    "4. Print the documentation for the numpy `add` function"
   ]
  },
  {
   "cell_type": "code",
   "execution_count": 24,
   "metadata": {},
   "outputs": [
    {
     "name": "stdout",
     "output_type": "stream",
     "text": [
      "Help on ufunc object:\n",
      "\n",
      "add = class ufunc(builtins.object)\n",
      " |  Functions that operate element by element on whole arrays.\n",
      " |  \n",
      " |  To see the documentation for a specific ufunc, use `info`.  For\n",
      " |  example, ``np.info(np.sin)``.  Because ufuncs are written in C\n",
      " |  (for speed) and linked into Python with NumPy's ufunc facility,\n",
      " |  Python's help() function finds this page whenever help() is called\n",
      " |  on a ufunc.\n",
      " |  \n",
      " |  A detailed explanation of ufuncs can be found in the docs for :ref:`ufuncs`.\n",
      " |  \n",
      " |  Calling ufuncs:\n",
      " |  ===============\n",
      " |  \n",
      " |  op(*x[, out], where=True, **kwargs)\n",
      " |  Apply `op` to the arguments `*x` elementwise, broadcasting the arguments.\n",
      " |  \n",
      " |  The broadcasting rules are:\n",
      " |  \n",
      " |  * Dimensions of length 1 may be prepended to either array.\n",
      " |  * Arrays may be repeated along dimensions of length 1.\n",
      " |  \n",
      " |  Parameters\n",
      " |  ----------\n",
      " |  *x : array_like\n",
      " |      Input arrays.\n",
      " |  out : ndarray, None, or tuple of ndarray and None, optional\n",
      " |      Alternate array object(s) in which to put the result; if provided, it\n",
      " |      must have a shape that the inputs broadcast to. A tuple of arrays\n",
      " |      (possible only as a keyword argument) must have length equal to the\n",
      " |      number of outputs; use `None` for outputs to be allocated by the ufunc.\n",
      " |  where : array_like, optional\n",
      " |      Values of True indicate to calculate the ufunc at that position, values\n",
      " |      of False indicate to leave the value in the output alone.\n",
      " |  **kwargs\n",
      " |      For other keyword-only arguments, see the :ref:`ufunc docs <ufuncs.kwargs>`.\n",
      " |  \n",
      " |  Returns\n",
      " |  -------\n",
      " |  r : ndarray or tuple of ndarray\n",
      " |      `r` will have the shape that the arrays in `x` broadcast to; if `out` is\n",
      " |      provided, `r` will be equal to `out`. If the function has more than one\n",
      " |      output, then the result will be a tuple of arrays.\n",
      " |  \n",
      " |  Methods defined here:\n",
      " |  \n",
      " |  __call__(self, /, *args, **kwargs)\n",
      " |      Call self as a function.\n",
      " |  \n",
      " |  __repr__(self, /)\n",
      " |      Return repr(self).\n",
      " |  \n",
      " |  __str__(self, /)\n",
      " |      Return str(self).\n",
      " |  \n",
      " |  accumulate(...)\n",
      " |      accumulate(array, axis=0, dtype=None, out=None)\n",
      " |      \n",
      " |      Accumulate the result of applying the operator to all elements.\n",
      " |      \n",
      " |      For a one-dimensional array, accumulate produces results equivalent to::\n",
      " |      \n",
      " |        r = np.empty(len(A))\n",
      " |        t = op.identity        # op = the ufunc being applied to A's  elements\n",
      " |        for i in range(len(A)):\n",
      " |            t = op(t, A[i])\n",
      " |            r[i] = t\n",
      " |        return r\n",
      " |      \n",
      " |      For example, add.accumulate() is equivalent to np.cumsum().\n",
      " |      \n",
      " |      For a multi-dimensional array, accumulate is applied along only one\n",
      " |      axis (axis zero by default; see Examples below) so repeated use is\n",
      " |      necessary if one wants to accumulate over multiple axes.\n",
      " |      \n",
      " |      Parameters\n",
      " |      ----------\n",
      " |      array : array_like\n",
      " |          The array to act on.\n",
      " |      axis : int, optional\n",
      " |          The axis along which to apply the accumulation; default is zero.\n",
      " |      dtype : data-type code, optional\n",
      " |          The data-type used to represent the intermediate results. Defaults\n",
      " |          to the data-type of the output array if such is provided, or the\n",
      " |          the data-type of the input array if no output array is provided.\n",
      " |      out : ndarray, None, or tuple of ndarray and None, optional\n",
      " |          A location into which the result is stored. If not provided or `None`,\n",
      " |          a freshly-allocated array is returned. For consistency with\n",
      " |          :ref:`ufunc.__call__`, if given as a keyword, this may be wrapped in a\n",
      " |          1-element tuple.\n",
      " |      \n",
      " |          .. versionchanged:: 1.13.0\n",
      " |             Tuples are allowed for keyword argument.\n",
      " |      \n",
      " |      Returns\n",
      " |      -------\n",
      " |      r : ndarray\n",
      " |          The accumulated values. If `out` was supplied, `r` is a reference to\n",
      " |          `out`.\n",
      " |      \n",
      " |      Examples\n",
      " |      --------\n",
      " |      1-D array examples:\n",
      " |      \n",
      " |      >>> np.add.accumulate([2, 3, 5])\n",
      " |      array([ 2,  5, 10])\n",
      " |      >>> np.multiply.accumulate([2, 3, 5])\n",
      " |      array([ 2,  6, 30])\n",
      " |      \n",
      " |      2-D array examples:\n",
      " |      \n",
      " |      >>> I = np.eye(2)\n",
      " |      >>> I\n",
      " |      array([[ 1.,  0.],\n",
      " |             [ 0.,  1.]])\n",
      " |      \n",
      " |      Accumulate along axis 0 (rows), down columns:\n",
      " |      \n",
      " |      >>> np.add.accumulate(I, 0)\n",
      " |      array([[ 1.,  0.],\n",
      " |             [ 1.,  1.]])\n",
      " |      >>> np.add.accumulate(I) # no axis specified = axis zero\n",
      " |      array([[ 1.,  0.],\n",
      " |             [ 1.,  1.]])\n",
      " |      \n",
      " |      Accumulate along axis 1 (columns), through rows:\n",
      " |      \n",
      " |      >>> np.add.accumulate(I, 1)\n",
      " |      array([[ 1.,  1.],\n",
      " |             [ 0.,  1.]])\n",
      " |  \n",
      " |  at(...)\n",
      " |      at(a, indices, b=None)\n",
      " |      \n",
      " |      Performs unbuffered in place operation on operand 'a' for elements\n",
      " |      specified by 'indices'. For addition ufunc, this method is equivalent to\n",
      " |      `a[indices] += b`, except that results are accumulated for elements that\n",
      " |      are indexed more than once. For example, `a[[0,0]] += 1` will only\n",
      " |      increment the first element once because of buffering, whereas\n",
      " |      `add.at(a, [0,0], 1)` will increment the first element twice.\n",
      " |      \n",
      " |      .. versionadded:: 1.8.0\n",
      " |      \n",
      " |      Parameters\n",
      " |      ----------\n",
      " |      a : array_like\n",
      " |          The array to perform in place operation on.\n",
      " |      indices : array_like or tuple\n",
      " |          Array like index object or slice object for indexing into first\n",
      " |          operand. If first operand has multiple dimensions, indices can be a\n",
      " |          tuple of array like index objects or slice objects.\n",
      " |      b : array_like\n",
      " |          Second operand for ufuncs requiring two operands. Operand must be\n",
      " |          broadcastable over first operand after indexing or slicing.\n",
      " |      \n",
      " |      Examples\n",
      " |      --------\n",
      " |      Set items 0 and 1 to their negative values:\n",
      " |      \n",
      " |      >>> a = np.array([1, 2, 3, 4])\n",
      " |      >>> np.negative.at(a, [0, 1])\n",
      " |      >>> print(a)\n",
      " |      array([-1, -2, 3, 4])\n",
      " |      \n",
      " |      ::\n",
      " |      \n",
      " |      Increment items 0 and 1, and increment item 2 twice:\n",
      " |      \n",
      " |      >>> a = np.array([1, 2, 3, 4])\n",
      " |      >>> np.add.at(a, [0, 1, 2, 2], 1)\n",
      " |      >>> print(a)\n",
      " |      array([2, 3, 5, 4])\n",
      " |      \n",
      " |      ::\n",
      " |      \n",
      " |      Add items 0 and 1 in first array to second array,\n",
      " |      and store results in first array:\n",
      " |      \n",
      " |      >>> a = np.array([1, 2, 3, 4])\n",
      " |      >>> b = np.array([1, 2])\n",
      " |      >>> np.add.at(a, [0, 1], b)\n",
      " |      >>> print(a)\n",
      " |      array([2, 4, 3, 4])\n",
      " |  \n",
      " |  outer(...)\n",
      " |      outer(A, B, **kwargs)\n",
      " |      \n",
      " |      Apply the ufunc `op` to all pairs (a, b) with a in `A` and b in `B`.\n",
      " |      \n",
      " |      Let ``M = A.ndim``, ``N = B.ndim``. Then the result, `C`, of\n",
      " |      ``op.outer(A, B)`` is an array of dimension M + N such that:\n",
      " |      \n",
      " |      .. math:: C[i_0, ..., i_{M-1}, j_0, ..., j_{N-1}] =\n",
      " |         op(A[i_0, ..., i_{M-1}], B[j_0, ..., j_{N-1}])\n",
      " |      \n",
      " |      For `A` and `B` one-dimensional, this is equivalent to::\n",
      " |      \n",
      " |        r = empty(len(A),len(B))\n",
      " |        for i in range(len(A)):\n",
      " |            for j in range(len(B)):\n",
      " |                r[i,j] = op(A[i], B[j]) # op = ufunc in question\n",
      " |      \n",
      " |      Parameters\n",
      " |      ----------\n",
      " |      A : array_like\n",
      " |          First array\n",
      " |      B : array_like\n",
      " |          Second array\n",
      " |      kwargs : any\n",
      " |          Arguments to pass on to the ufunc. Typically `dtype` or `out`.\n",
      " |      \n",
      " |      Returns\n",
      " |      -------\n",
      " |      r : ndarray\n",
      " |          Output array\n",
      " |      \n",
      " |      See Also\n",
      " |      --------\n",
      " |      numpy.outer\n",
      " |      \n",
      " |      Examples\n",
      " |      --------\n",
      " |      >>> np.multiply.outer([1, 2, 3], [4, 5, 6])\n",
      " |      array([[ 4,  5,  6],\n",
      " |             [ 8, 10, 12],\n",
      " |             [12, 15, 18]])\n",
      " |      \n",
      " |      A multi-dimensional example:\n",
      " |      \n",
      " |      >>> A = np.array([[1, 2, 3], [4, 5, 6]])\n",
      " |      >>> A.shape\n",
      " |      (2, 3)\n",
      " |      >>> B = np.array([[1, 2, 3, 4]])\n",
      " |      >>> B.shape\n",
      " |      (1, 4)\n",
      " |      >>> C = np.multiply.outer(A, B)\n",
      " |      >>> C.shape; C\n",
      " |      (2, 3, 1, 4)\n",
      " |      array([[[[ 1,  2,  3,  4]],\n",
      " |              [[ 2,  4,  6,  8]],\n",
      " |              [[ 3,  6,  9, 12]]],\n",
      " |             [[[ 4,  8, 12, 16]],\n",
      " |              [[ 5, 10, 15, 20]],\n",
      " |              [[ 6, 12, 18, 24]]]])\n",
      " |  \n",
      " |  reduce(...)\n",
      " |      reduce(a, axis=0, dtype=None, out=None, keepdims=False)\n",
      " |      \n",
      " |      Reduces `a`'s dimension by one, by applying ufunc along one axis.\n",
      " |      \n",
      " |      Let :math:`a.shape = (N_0, ..., N_i, ..., N_{M-1})`.  Then\n",
      " |      :math:`ufunc.reduce(a, axis=i)[k_0, ..,k_{i-1}, k_{i+1}, .., k_{M-1}]` =\n",
      " |      the result of iterating `j` over :math:`range(N_i)`, cumulatively applying\n",
      " |      ufunc to each :math:`a[k_0, ..,k_{i-1}, j, k_{i+1}, .., k_{M-1}]`.\n",
      " |      For a one-dimensional array, reduce produces results equivalent to:\n",
      " |      ::\n",
      " |      \n",
      " |       r = op.identity # op = ufunc\n",
      " |       for i in range(len(A)):\n",
      " |         r = op(r, A[i])\n",
      " |       return r\n",
      " |      \n",
      " |      For example, add.reduce() is equivalent to sum().\n",
      " |      \n",
      " |      Parameters\n",
      " |      ----------\n",
      " |      a : array_like\n",
      " |          The array to act on.\n",
      " |      axis : None or int or tuple of ints, optional\n",
      " |          Axis or axes along which a reduction is performed.\n",
      " |          The default (`axis` = 0) is perform a reduction over the first\n",
      " |          dimension of the input array. `axis` may be negative, in\n",
      " |          which case it counts from the last to the first axis.\n",
      " |      \n",
      " |          .. versionadded:: 1.7.0\n",
      " |      \n",
      " |          If this is `None`, a reduction is performed over all the axes.\n",
      " |          If this is a tuple of ints, a reduction is performed on multiple\n",
      " |          axes, instead of a single axis or all the axes as before.\n",
      " |      \n",
      " |          For operations which are either not commutative or not associative,\n",
      " |          doing a reduction over multiple axes is not well-defined. The\n",
      " |          ufuncs do not currently raise an exception in this case, but will\n",
      " |          likely do so in the future.\n",
      " |      dtype : data-type code, optional\n",
      " |          The type used to represent the intermediate results. Defaults\n",
      " |          to the data-type of the output array if this is provided, or\n",
      " |          the data-type of the input array if no output array is provided.\n",
      " |      out : ndarray, None, or tuple of ndarray and None, optional\n",
      " |          A location into which the result is stored. If not provided or `None`,\n",
      " |          a freshly-allocated array is returned. For consistency with\n",
      " |          :ref:`ufunc.__call__`, if given as a keyword, this may be wrapped in a\n",
      " |          1-element tuple.\n",
      " |      \n",
      " |          .. versionchanged:: 1.13.0\n",
      " |             Tuples are allowed for keyword argument.\n",
      " |      keepdims : bool, optional\n",
      " |          If this is set to True, the axes which are reduced are left\n",
      " |          in the result as dimensions with size one. With this option,\n",
      " |          the result will broadcast correctly against the original `arr`.\n",
      " |      \n",
      " |          .. versionadded:: 1.7.0\n",
      " |      \n",
      " |      Returns\n",
      " |      -------\n",
      " |      r : ndarray\n",
      " |          The reduced array. If `out` was supplied, `r` is a reference to it.\n",
      " |      \n",
      " |      Examples\n",
      " |      --------\n",
      " |      >>> np.multiply.reduce([2,3,5])\n",
      " |      30\n",
      " |      \n",
      " |      A multi-dimensional array example:\n",
      " |      \n",
      " |      >>> X = np.arange(8).reshape((2,2,2))\n",
      " |      >>> X\n",
      " |      array([[[0, 1],\n",
      " |              [2, 3]],\n",
      " |             [[4, 5],\n",
      " |              [6, 7]]])\n",
      " |      >>> np.add.reduce(X, 0)\n",
      " |      array([[ 4,  6],\n",
      " |             [ 8, 10]])\n",
      " |      >>> np.add.reduce(X) # confirm: default axis value is 0\n",
      " |      array([[ 4,  6],\n",
      " |             [ 8, 10]])\n",
      " |      >>> np.add.reduce(X, 1)\n",
      " |      array([[ 2,  4],\n",
      " |             [10, 12]])\n",
      " |      >>> np.add.reduce(X, 2)\n",
      " |      array([[ 1,  5],\n",
      " |             [ 9, 13]])\n",
      " |  \n",
      " |  reduceat(...)\n",
      " |      reduceat(a, indices, axis=0, dtype=None, out=None)\n",
      " |      \n",
      " |      Performs a (local) reduce with specified slices over a single axis.\n",
      " |      \n",
      " |      For i in ``range(len(indices))``, `reduceat` computes\n",
      " |      ``ufunc.reduce(a[indices[i]:indices[i+1]])``, which becomes the i-th\n",
      " |      generalized \"row\" parallel to `axis` in the final result (i.e., in a\n",
      " |      2-D array, for example, if `axis = 0`, it becomes the i-th row, but if\n",
      " |      `axis = 1`, it becomes the i-th column).  There are three exceptions to this:\n",
      " |      \n",
      " |      * when ``i = len(indices) - 1`` (so for the last index),\n",
      " |        ``indices[i+1] = a.shape[axis]``.\n",
      " |      * if ``indices[i] >= indices[i + 1]``, the i-th generalized \"row\" is\n",
      " |        simply ``a[indices[i]]``.\n",
      " |      * if ``indices[i] >= len(a)`` or ``indices[i] < 0``, an error is raised.\n",
      " |      \n",
      " |      The shape of the output depends on the size of `indices`, and may be\n",
      " |      larger than `a` (this happens if ``len(indices) > a.shape[axis]``).\n",
      " |      \n",
      " |      Parameters\n",
      " |      ----------\n",
      " |      a : array_like\n",
      " |          The array to act on.\n",
      " |      indices : array_like\n",
      " |          Paired indices, comma separated (not colon), specifying slices to\n",
      " |          reduce.\n",
      " |      axis : int, optional\n",
      " |          The axis along which to apply the reduceat.\n",
      " |      dtype : data-type code, optional\n",
      " |          The type used to represent the intermediate results. Defaults\n",
      " |          to the data type of the output array if this is provided, or\n",
      " |          the data type of the input array if no output array is provided.\n",
      " |      out : ndarray, None, or tuple of ndarray and None, optional\n",
      " |          A location into which the result is stored. If not provided or `None`,\n",
      " |          a freshly-allocated array is returned. For consistency with\n",
      " |          :ref:`ufunc.__call__`, if given as a keyword, this may be wrapped in a\n",
      " |          1-element tuple.\n",
      " |      \n",
      " |          .. versionchanged:: 1.13.0\n",
      " |             Tuples are allowed for keyword argument.\n",
      " |      \n",
      " |      Returns\n",
      " |      -------\n",
      " |      r : ndarray\n",
      " |          The reduced values. If `out` was supplied, `r` is a reference to\n",
      " |          `out`.\n",
      " |      \n",
      " |      Notes\n",
      " |      -----\n",
      " |      A descriptive example:\n",
      " |      \n",
      " |      If `a` is 1-D, the function `ufunc.accumulate(a)` is the same as\n",
      " |      ``ufunc.reduceat(a, indices)[::2]`` where `indices` is\n",
      " |      ``range(len(array) - 1)`` with a zero placed\n",
      " |      in every other element:\n",
      " |      ``indices = zeros(2 * len(a) - 1)``, ``indices[1::2] = range(1, len(a))``.\n",
      " |      \n",
      " |      Don't be fooled by this attribute's name: `reduceat(a)` is not\n",
      " |      necessarily smaller than `a`.\n",
      " |      \n",
      " |      Examples\n",
      " |      --------\n",
      " |      To take the running sum of four successive values:\n",
      " |      \n",
      " |      >>> np.add.reduceat(np.arange(8),[0,4, 1,5, 2,6, 3,7])[::2]\n",
      " |      array([ 6, 10, 14, 18])\n",
      " |      \n",
      " |      A 2-D example:\n",
      " |      \n",
      " |      >>> x = np.linspace(0, 15, 16).reshape(4,4)\n",
      " |      >>> x\n",
      " |      array([[  0.,   1.,   2.,   3.],\n",
      " |             [  4.,   5.,   6.,   7.],\n",
      " |             [  8.,   9.,  10.,  11.],\n",
      " |             [ 12.,  13.,  14.,  15.]])\n",
      " |      \n",
      " |      ::\n",
      " |      \n",
      " |       # reduce such that the result has the following five rows:\n",
      " |       # [row1 + row2 + row3]\n",
      " |       # [row4]\n",
      " |       # [row2]\n",
      " |       # [row3]\n",
      " |       # [row1 + row2 + row3 + row4]\n",
      " |      \n",
      " |      >>> np.add.reduceat(x, [0, 3, 1, 2, 0])\n",
      " |      array([[ 12.,  15.,  18.,  21.],\n",
      " |             [ 12.,  13.,  14.,  15.],\n",
      " |             [  4.,   5.,   6.,   7.],\n",
      " |             [  8.,   9.,  10.,  11.],\n",
      " |             [ 24.,  28.,  32.,  36.]])\n",
      " |      \n",
      " |      ::\n",
      " |      \n",
      " |       # reduce such that result has the following two columns:\n",
      " |       # [col1 * col2 * col3, col4]\n",
      " |      \n",
      " |      >>> np.multiply.reduceat(x, [0, 3], 1)\n",
      " |      array([[    0.,     3.],\n",
      " |             [  120.,     7.],\n",
      " |             [  720.,    11.],\n",
      " |             [ 2184.,    15.]])\n",
      " |  \n",
      " |  ----------------------------------------------------------------------\n",
      " |  Data descriptors defined here:\n",
      " |  \n",
      " |  identity\n",
      " |      The identity value.\n",
      " |      \n",
      " |      Data attribute containing the identity element for the ufunc, if it has one.\n",
      " |      If it does not, the attribute value is None.\n",
      " |      \n",
      " |      Examples\n",
      " |      --------\n",
      " |      >>> np.add.identity\n",
      " |      0\n",
      " |      >>> np.multiply.identity\n",
      " |      1\n",
      " |      >>> np.power.identity\n",
      " |      1\n",
      " |      >>> print(np.exp.identity)\n",
      " |      None\n",
      " |  \n",
      " |  nargs\n",
      " |      The number of arguments.\n",
      " |      \n",
      " |      Data attribute containing the number of arguments the ufunc takes, including\n",
      " |      optional ones.\n",
      " |      \n",
      " |      Notes\n",
      " |      -----\n",
      " |      Typically this value will be one more than what you might expect because all\n",
      " |      ufuncs take  the optional \"out\" argument.\n",
      " |      \n",
      " |      Examples\n",
      " |      --------\n",
      " |      >>> np.add.nargs\n",
      " |      3\n",
      " |      >>> np.multiply.nargs\n",
      " |      3\n",
      " |      >>> np.power.nargs\n",
      " |      3\n",
      " |      >>> np.exp.nargs\n",
      " |      2\n",
      " |  \n",
      " |  nin\n",
      " |      The number of inputs.\n",
      " |      \n",
      " |      Data attribute containing the number of arguments the ufunc treats as input.\n",
      " |      \n",
      " |      Examples\n",
      " |      --------\n",
      " |      >>> np.add.nin\n",
      " |      2\n",
      " |      >>> np.multiply.nin\n",
      " |      2\n",
      " |      >>> np.power.nin\n",
      " |      2\n",
      " |      >>> np.exp.nin\n",
      " |      1\n",
      " |  \n",
      " |  nout\n",
      " |      The number of outputs.\n",
      " |      \n",
      " |      Data attribute containing the number of arguments the ufunc treats as output.\n",
      " |      \n",
      " |      Notes\n",
      " |      -----\n",
      " |      Since all ufuncs can take output arguments, this will always be (at least) 1.\n",
      " |      \n",
      " |      Examples\n",
      " |      --------\n",
      " |      >>> np.add.nout\n",
      " |      1\n",
      " |      >>> np.multiply.nout\n",
      " |      1\n",
      " |      >>> np.power.nout\n",
      " |      1\n",
      " |      >>> np.exp.nout\n",
      " |      1\n",
      " |  \n",
      " |  ntypes\n",
      " |      The number of types.\n",
      " |      \n",
      " |      The number of numerical NumPy types - of which there are 18 total - on which\n",
      " |      the ufunc can operate.\n",
      " |      \n",
      " |      See Also\n",
      " |      --------\n",
      " |      numpy.ufunc.types\n",
      " |      \n",
      " |      Examples\n",
      " |      --------\n",
      " |      >>> np.add.ntypes\n",
      " |      18\n",
      " |      >>> np.multiply.ntypes\n",
      " |      18\n",
      " |      >>> np.power.ntypes\n",
      " |      17\n",
      " |      >>> np.exp.ntypes\n",
      " |      7\n",
      " |      >>> np.remainder.ntypes\n",
      " |      14\n",
      " |  \n",
      " |  signature\n",
      " |      Definition of the core elements a generalized ufunc operates on.\n",
      " |      \n",
      " |      The signature determines how the dimensions of each input/output array\n",
      " |      are split into core and loop dimensions:\n",
      " |      \n",
      " |      1. Each dimension in the signature is matched to a dimension of the\n",
      " |         corresponding passed-in array, starting from the end of the shape tuple.\n",
      " |      2. Core dimensions assigned to the same label in the signature must have\n",
      " |         exactly matching sizes, no broadcasting is performed.\n",
      " |      3. The core dimensions are removed from all inputs and the remaining\n",
      " |         dimensions are broadcast together, defining the loop dimensions.\n",
      " |      \n",
      " |      Notes\n",
      " |      -----\n",
      " |      Generalized ufuncs are used internally in many linalg functions, and in\n",
      " |      the testing suite; the examples below are taken from these.\n",
      " |      For ufuncs that operate on scalars, the signature is `None`, which is\n",
      " |      equivalent to '()' for every argument.\n",
      " |      \n",
      " |      Examples\n",
      " |      --------\n",
      " |      >>> np.core.umath_tests.matrix_multiply.signature\n",
      " |      '(m,n),(n,p)->(m,p)'\n",
      " |      >>> np.linalg._umath_linalg.det.signature\n",
      " |      '(m,m)->()'\n",
      " |      >>> np.add.signature is None\n",
      " |      True  # equivalent to '(),()->()'\n",
      " |  \n",
      " |  types\n",
      " |      Returns a list with types grouped input->output.\n",
      " |      \n",
      " |      Data attribute listing the data-type \"Domain-Range\" groupings the ufunc can\n",
      " |      deliver. The data-types are given using the character codes.\n",
      " |      \n",
      " |      See Also\n",
      " |      --------\n",
      " |      numpy.ufunc.ntypes\n",
      " |      \n",
      " |      Examples\n",
      " |      --------\n",
      " |      >>> np.add.types\n",
      " |      ['??->?', 'bb->b', 'BB->B', 'hh->h', 'HH->H', 'ii->i', 'II->I', 'll->l',\n",
      " |      'LL->L', 'qq->q', 'QQ->Q', 'ff->f', 'dd->d', 'gg->g', 'FF->F', 'DD->D',\n",
      " |      'GG->G', 'OO->O']\n",
      " |      \n",
      " |      >>> np.multiply.types\n",
      " |      ['??->?', 'bb->b', 'BB->B', 'hh->h', 'HH->H', 'ii->i', 'II->I', 'll->l',\n",
      " |      'LL->L', 'qq->q', 'QQ->Q', 'ff->f', 'dd->d', 'gg->g', 'FF->F', 'DD->D',\n",
      " |      'GG->G', 'OO->O']\n",
      " |      \n",
      " |      >>> np.power.types\n",
      " |      ['bb->b', 'BB->B', 'hh->h', 'HH->H', 'ii->i', 'II->I', 'll->l', 'LL->L',\n",
      " |      'qq->q', 'QQ->Q', 'ff->f', 'dd->d', 'gg->g', 'FF->F', 'DD->D', 'GG->G',\n",
      " |      'OO->O']\n",
      " |      \n",
      " |      >>> np.exp.types\n",
      " |      ['f->f', 'd->d', 'g->g', 'F->F', 'D->D', 'G->G', 'O->O']\n",
      " |      \n",
      " |      >>> np.remainder.types\n",
      " |      ['bb->b', 'BB->B', 'hh->h', 'HH->H', 'ii->i', 'II->I', 'll->l', 'LL->L',\n",
      " |      'qq->q', 'QQ->Q', 'ff->f', 'dd->d', 'gg->g', 'OO->O']\n",
      "\n"
     ]
    }
   ],
   "source": [
    "help(np.add)"
   ]
  },
  {
   "cell_type": "markdown",
   "metadata": {},
   "source": [
    "5. Modify your null vector from (3) to make the fifth value 1."
   ]
  },
  {
   "cell_type": "code",
   "execution_count": 20,
   "metadata": {},
   "outputs": [
    {
     "data": {
      "text/plain": [
       "array([0., 0., 0., 0., 1., 0., 0., 0., 0., 0.])"
      ]
     },
     "execution_count": 20,
     "metadata": {},
     "output_type": "execute_result"
    }
   ],
   "source": [
    "a_vec[4] = 1\n",
    "a_vec"
   ]
  },
  {
   "cell_type": "code",
   "execution_count": null,
   "metadata": {},
   "outputs": [],
   "source": []
  },
  {
   "cell_type": "markdown",
   "metadata": {},
   "source": [
    "6. Create a vector with values ranging from 10 to 49 and save it in a variable."
   ]
  },
  {
   "cell_type": "code",
   "execution_count": 39,
   "metadata": {},
   "outputs": [
    {
     "data": {
      "text/plain": [
       "array([10, 11, 12, 13, 14, 15, 16, 17, 18, 19, 20, 21, 22, 23, 24, 25, 26,\n",
       "       27, 28, 29, 30, 31, 32, 33, 34, 35, 36, 37, 38, 39, 40, 41, 42, 43,\n",
       "       44, 45, 46, 47, 48, 49])"
      ]
     },
     "execution_count": 39,
     "metadata": {},
     "output_type": "execute_result"
    }
   ],
   "source": [
    "b_vec = np.arange(10,50)\n",
    "b_vec"
   ]
  },
  {
   "cell_type": "markdown",
   "metadata": {},
   "source": [
    "7. Reverse the vector from (6)."
   ]
  },
  {
   "cell_type": "code",
   "execution_count": 44,
   "metadata": {},
   "outputs": [
    {
     "data": {
      "text/plain": [
       "array([49, 48, 47, 46, 45, 44, 43, 42, 41, 40, 39, 38, 37, 36, 35, 34, 33,\n",
       "       32, 31, 30, 29, 28, 27, 26, 25, 24, 23, 22, 21, 20, 19, 18, 17, 16,\n",
       "       15, 14, 13, 12, 11, 10])"
      ]
     },
     "execution_count": 44,
     "metadata": {},
     "output_type": "execute_result"
    }
   ],
   "source": [
    "b2 = b_vec[::-1]\n",
    "b2"
   ]
  },
  {
   "cell_type": "markdown",
   "metadata": {},
   "source": [
    "8. Create a 3x3 matrix with values ranging from 0 to 8."
   ]
  },
  {
   "cell_type": "code",
   "execution_count": 60,
   "metadata": {},
   "outputs": [
    {
     "data": {
      "text/plain": [
       "array([[0, 1, 2],\n",
       "       [3, 4, 5],\n",
       "       [6, 7, 8]])"
      ]
     },
     "execution_count": 60,
     "metadata": {},
     "output_type": "execute_result"
    }
   ],
   "source": [
    "c = np.arange(0,9).reshape(3,3)\n",
    "c"
   ]
  },
  {
   "cell_type": "markdown",
   "metadata": {},
   "source": [
    "9. Given the list `[1, 2, 0, 0, 4, 0]`, use a numpy function to find the indices of all non-zero elements."
   ]
  },
  {
   "cell_type": "code",
   "execution_count": 63,
   "metadata": {},
   "outputs": [
    {
     "data": {
      "text/plain": [
       "(array([0, 1, 4], dtype=int64),)"
      ]
     },
     "execution_count": 63,
     "metadata": {},
     "output_type": "execute_result"
    }
   ],
   "source": [
    "np.nonzero([1, 2, 0, 0, 4, 0])"
   ]
  },
  {
   "cell_type": "markdown",
   "metadata": {},
   "source": [
    "10. Create a 3x3 identity matrix (review your matrix algebra if needed!)"
   ]
  },
  {
   "cell_type": "code",
   "execution_count": 66,
   "metadata": {},
   "outputs": [
    {
     "data": {
      "text/plain": [
       "array([[1., 0., 0.],\n",
       "       [0., 1., 0.],\n",
       "       [0., 0., 1.]])"
      ]
     },
     "execution_count": 66,
     "metadata": {},
     "output_type": "execute_result"
    }
   ],
   "source": [
    "np.identity(3)"
   ]
  },
  {
   "cell_type": "markdown",
   "metadata": {},
   "source": [
    "11. Create a 3x3x3 array with random values."
   ]
  },
  {
   "cell_type": "code",
   "execution_count": 68,
   "metadata": {},
   "outputs": [
    {
     "data": {
      "text/plain": [
       "array([[0.68124977, 0.19733407, 0.9844733 ],\n",
       "       [0.21375872, 0.4138824 , 0.2551864 ],\n",
       "       [0.70489866, 0.46567402, 0.98669646]])"
      ]
     },
     "execution_count": 68,
     "metadata": {},
     "output_type": "execute_result"
    }
   ],
   "source": [
    "np.random.rand(3,3)"
   ]
  },
  {
   "cell_type": "markdown",
   "metadata": {},
   "source": [
    "12. Create a 10x10 array with random values and find the minimum and maximum values"
   ]
  },
  {
   "cell_type": "code",
   "execution_count": 87,
   "metadata": {},
   "outputs": [
    {
     "name": "stdout",
     "output_type": "stream",
     "text": [
      "[[0.26089972 0.50639363 0.47398162 0.34084142 0.84656684 0.11707091\n",
      "  0.04627739 0.42814682 0.20557384 0.37344205]\n",
      " [0.32523115 0.59418649 0.57600092 0.67404527 0.62807527 0.04638533\n",
      "  0.81321317 0.55230652 0.64938779 0.89990627]\n",
      " [0.19534787 0.86831131 0.29689195 0.47862107 0.55555168 0.11560162\n",
      "  0.99634412 0.004939   0.80772451 0.54373263]\n",
      " [0.14794709 0.95135031 0.92235304 0.20835291 0.95743085 0.20865605\n",
      "  0.16290011 0.44359128 0.36519383 0.9661337 ]\n",
      " [0.14289752 0.67438794 0.47466785 0.78285228 0.58277614 0.60923788\n",
      "  0.89258574 0.26068337 0.39143167 0.42023019]\n",
      " [0.92932202 0.38821392 0.96169055 0.80764654 0.77441727 0.30284578\n",
      "  0.62883672 0.57863098 0.10253661 0.72038028]\n",
      " [0.2868756  0.70580484 0.73321035 0.4687638  0.93147757 0.08755399\n",
      "  0.81652902 0.81457316 0.66176188 0.93964258]\n",
      " [0.97616205 0.34467998 0.40917888 0.11571013 0.45554571 0.31739745\n",
      "  0.23195844 0.99436266 0.68757805 0.88985232]\n",
      " [0.48949252 0.6478102  0.65682124 0.80144229 0.78086012 0.58789883\n",
      "  0.38093814 0.41952071 0.64767998 0.30230891]\n",
      " [0.65180908 0.70054469 0.51027921 0.30979267 0.64526695 0.81772873\n",
      "  0.6053696  0.0212734  0.17906254 0.0469304 ]]\n",
      "0.004938996511263505\n",
      "0.9963441228060014\n"
     ]
    }
   ],
   "source": [
    "d = np.random.rand(10,10)\n",
    "print(d)\n",
    "print(np.min(d))\n",
    "print(np.max(d))"
   ]
  },
  {
   "cell_type": "markdown",
   "metadata": {},
   "source": [
    "13. Create a random vector of size 30 and find the mean value."
   ]
  },
  {
   "cell_type": "code",
   "execution_count": 77,
   "metadata": {
    "scrolled": true
   },
   "outputs": [
    {
     "name": "stdout",
     "output_type": "stream",
     "text": [
      "[0.78309158 0.06802118 0.60599124 0.39130444 0.24873317 0.5360691\n",
      " 0.95914518 0.03874076 0.6222137  0.85067846 0.00451799 0.21556367\n",
      " 0.35164521 0.61141461 0.89804986 0.46746893 0.72045837 0.54994862\n",
      " 0.9003545  0.88831721 0.43583872 0.8280856  0.71401046 0.3405788\n",
      " 0.64910185 0.07885076 0.46536037 0.89819395 0.31002056 0.31837064]\n",
      "0.5250046498082492\n"
     ]
    }
   ],
   "source": [
    "e = np.random.rand(30)\n",
    "print(e)\n",
    "print(np.mean(e))"
   ]
  },
  {
   "cell_type": "markdown",
   "metadata": {},
   "source": [
    "14. Create a two-dimensional array with the value `1` in every edge position, and `0` elsewhere:"
   ]
  },
  {
   "cell_type": "markdown",
   "metadata": {},
   "source": [
    "`[[1. 1. 1. 1. 1.]\n",
    " [1. 0. 0. 0. 1.]\n",
    " [1. 0. 0. 0. 1.]\n",
    " [1. 0. 0. 0. 1.]\n",
    " [1. 1. 1. 1. 1.]]`"
   ]
  },
  {
   "cell_type": "code",
   "execution_count": 106,
   "metadata": {},
   "outputs": [
    {
     "name": "stdout",
     "output_type": "stream",
     "text": [
      "[[0. 0. 0. 0. 0.]\n",
      " [0. 0. 0. 0. 0.]\n",
      " [0. 0. 0. 0. 0.]\n",
      " [0. 0. 0. 0. 0.]\n",
      " [0. 0. 0. 0. 0.]]\n"
     ]
    },
    {
     "data": {
      "text/plain": [
       "array([[1., 1., 1., 1., 1.],\n",
       "       [1., 0., 0., 0., 1.],\n",
       "       [1., 0., 0., 0., 1.],\n",
       "       [1., 0., 0., 0., 1.],\n",
       "       [1., 1., 1., 1., 1.]])"
      ]
     },
     "execution_count": 106,
     "metadata": {},
     "output_type": "execute_result"
    }
   ],
   "source": [
    "f = np.zeros((5,5))\n",
    "print(f)\n",
    "f[0] = np.ones(1)\n",
    "f[4] = np.ones(1)\n",
    "f[:,0] = np.ones(1)\n",
    "f[:,4] = np.ones(1)\n",
    "f"
   ]
  },
  {
   "cell_type": "markdown",
   "metadata": {},
   "source": [
    "15. Predict the result of each of the following expressions, then test your predictions:\n",
    "\n",
    "(a) ` 0 * np.nan`\n",
    "\n",
    "(b) ` np.nan == np.nan`\n",
    "\n",
    "(c) ` np.inf > np.nan`\n",
    "\n",
    "(d) ` np.nan - np.nan`\n",
    "\n",
    "(e) ` 0.3 == 3 * 0.1`\n"
   ]
  },
  {
   "cell_type": "code",
   "execution_count": 3,
   "metadata": {},
   "outputs": [
    {
     "name": "stdout",
     "output_type": "stream",
     "text": [
      "nan\n",
      "False\n",
      "False\n",
      "nan\n",
      "False\n"
     ]
    }
   ],
   "source": [
    "print(0 * np.nan)\n",
    "print(np.nan == np.nan)\n",
    "print(np.inf > np.nan)\n",
    "print(np.nan - np.nan)\n",
    "print(0.3 == 3 * 0.1)"
   ]
  },
  {
   "cell_type": "markdown",
   "metadata": {},
   "source": [
    "16. Create a 5x5 matrix with values 1,2,3,4 one place below the diagonal:\n",
    "\n",
    "`[[0 0 0 0 0]\n",
    " [1 0 0 0 0]\n",
    " [0 2 0 0 0]\n",
    " [0 0 3 0 0]\n",
    " [0 0 0 4 0]]`"
   ]
  },
  {
   "cell_type": "code",
   "execution_count": 55,
   "metadata": {},
   "outputs": [
    {
     "name": "stdout",
     "output_type": "stream",
     "text": [
      "[[0 0 0 0 0]\n",
      " [1 0 0 0 0]\n",
      " [0 2 0 0 0]\n",
      " [0 0 3 0 0]\n",
      " [0 0 0 4 0]]\n"
     ]
    }
   ],
   "source": [
    "g = np.diag(1+np.arange(4),k=-1)\n",
    "print(g)"
   ]
  },
  {
   "cell_type": "markdown",
   "metadata": {},
   "source": [
    "17. Create an 8x8 matrix and fill it with a checkerboard pattern of zeros and ones:\n",
    "\n",
    "`[[0 1 0 1 0 1 0 1]\n",
    " [1 0 1 0 1 0 1 0]\n",
    " [0 1 0 1 0 1 0 1]\n",
    " [1 0 1 0 1 0 1 0]\n",
    " [0 1 0 1 0 1 0 1]\n",
    " [1 0 1 0 1 0 1 0]\n",
    " [0 1 0 1 0 1 0 1]\n",
    " [1 0 1 0 1 0 1 0]]`"
   ]
  },
  {
   "cell_type": "code",
   "execution_count": 19,
   "metadata": {
    "scrolled": true
   },
   "outputs": [
    {
     "data": {
      "text/plain": [
       "array([[0, 1, 0, 1, 0, 1, 0, 1],\n",
       "       [1, 0, 1, 0, 1, 0, 1, 0],\n",
       "       [0, 1, 0, 1, 0, 1, 0, 1],\n",
       "       [1, 0, 1, 0, 1, 0, 1, 0],\n",
       "       [0, 1, 0, 1, 0, 1, 0, 1],\n",
       "       [1, 0, 1, 0, 1, 0, 1, 0],\n",
       "       [0, 1, 0, 1, 0, 1, 0, 1],\n",
       "       [1, 0, 1, 0, 1, 0, 1, 0]])"
      ]
     },
     "execution_count": 19,
     "metadata": {},
     "output_type": "execute_result"
    }
   ],
   "source": [
    "def my_check(w, h) :\n",
    "      even = np.r_[ w*[0,1] ]              # even-numbered rows\n",
    "      odd = np.r_[ w*[1,0] ]              # odd-numbered rows\n",
    "      return np.row_stack(h*(even, odd))\n",
    "my_check(4,4)"
   ]
  },
  {
   "cell_type": "code",
   "execution_count": 50,
   "metadata": {},
   "outputs": [
    {
     "name": "stdout",
     "output_type": "stream",
     "text": [
      "[[1 0 1 0 1 0 1 0]\n",
      " [0 1 0 1 0 1 0 1]\n",
      " [1 0 1 0 1 0 1 0]\n",
      " [0 1 0 1 0 1 0 1]\n",
      " [1 0 1 0 1 0 1 0]\n",
      " [0 1 0 1 0 1 0 1]\n",
      " [1 0 1 0 1 0 1 0]\n",
      " [0 1 0 1 0 1 0 1]]\n"
     ]
    }
   ],
   "source": [
    "board = np.zeros((8,8), np.int32)\n",
    "board[::2,::2] = 1\n",
    "board[1::2,1::2] = 1\n",
    "print(board)"
   ]
  },
  {
   "cell_type": "markdown",
   "metadata": {},
   "source": [
    "18. Use a numpy function to find the index (x, y, z) of the 100th element in an array of shape (6, 7, 8)."
   ]
  },
  {
   "cell_type": "code",
   "execution_count": 53,
   "metadata": {},
   "outputs": [
    {
     "name": "stdout",
     "output_type": "stream",
     "text": [
      "[[[0.0312257  0.22107164 0.10088965 0.51173255 0.51332602 0.08800167\n",
      "   0.32210414 0.02652277]\n",
      "  [0.06969327 0.86255536 0.77209461 0.29818755 0.75660131 0.83413866\n",
      "   0.30640889 0.30201095]\n",
      "  [0.27534426 0.81525618 0.44432186 0.02520305 0.50181728 0.70085201\n",
      "   0.30067581 0.08208915]\n",
      "  [0.37640991 0.91689936 0.88684079 0.91595493 0.96896842 0.88456219\n",
      "   0.79435567 0.46224354]\n",
      "  [0.13241228 0.88388931 0.61819056 0.22072231 0.44275626 0.574114\n",
      "   0.51415263 0.36110943]\n",
      "  [0.71118803 0.43816044 0.05932077 0.45525921 0.01806783 0.67831575\n",
      "   0.64488438 0.16365344]\n",
      "  [0.04159974 0.18917807 0.83802991 0.30406673 0.98138256 0.50739291\n",
      "   0.3445007  0.67721972]]\n",
      "\n",
      " [[0.4618555  0.91404862 0.75352745 0.25912891 0.03247216 0.52954136\n",
      "   0.14093024 0.89827667]\n",
      "  [0.89226309 0.54210335 0.70981309 0.67040669 0.35624145 0.8248678\n",
      "   0.23859304 0.92094979]\n",
      "  [0.13922685 0.19987457 0.69874692 0.84574375 0.76798334 0.93322527\n",
      "   0.63221015 0.59838554]\n",
      "  [0.84115653 0.13672223 0.16079453 0.87901884 0.16071955 0.74377218\n",
      "   0.66995448 0.37374045]\n",
      "  [0.67657247 0.23148116 0.37521846 0.07832789 0.90581122 0.88536647\n",
      "   0.8264428  0.09372637]\n",
      "  [0.63016342 0.770088   0.30281568 0.61597571 0.03641103 0.51536753\n",
      "   0.25269693 0.11498566]\n",
      "  [0.23468559 0.56568994 0.04439058 0.32537039 0.85238187 0.62319797\n",
      "   0.1842334  0.96942135]]\n",
      "\n",
      " [[0.88594149 0.28418639 0.64585625 0.4568871  0.62514169 0.17806082\n",
      "   0.29541337 0.51056324]\n",
      "  [0.02125353 0.59669393 0.82931505 0.77459729 0.82502553 0.90148986\n",
      "   0.58282373 0.52699334]\n",
      "  [0.39122136 0.77252994 0.88236167 0.30677311 0.87534065 0.4463431\n",
      "   0.92459645 0.56702405]\n",
      "  [0.41544858 0.28503583 0.12649439 0.72528181 0.14449045 0.67721208\n",
      "   0.97170338 0.28015228]\n",
      "  [0.01909732 0.43400603 0.26982804 0.30803581 0.14811765 0.95255509\n",
      "   0.74063622 0.03343324]\n",
      "  [0.17444657 0.10249496 0.02691578 0.05696192 0.31413972 0.9450686\n",
      "   0.6996587  0.92924881]\n",
      "  [0.07018578 0.59185341 0.44584302 0.2283921  0.69954784 0.2412802\n",
      "   0.822153   0.86899846]]\n",
      "\n",
      " [[0.61737693 0.68085482 0.80560805 0.26600215 0.87830662 0.62783008\n",
      "   0.30728139 0.47191784]\n",
      "  [0.62926461 0.26627631 0.67191154 0.88820553 0.17225102 0.52067442\n",
      "   0.03947956 0.00260692]\n",
      "  [0.02781743 0.12675612 0.73926857 0.78777638 0.42092453 0.4019057\n",
      "   0.43641351 0.90639819]\n",
      "  [0.02303139 0.25850919 0.51083121 0.5364887  0.58215103 0.01509122\n",
      "   0.12536892 0.87762279]\n",
      "  [0.66103345 0.31396533 0.41871512 0.17935331 0.09423741 0.15856902\n",
      "   0.4829993  0.09527135]\n",
      "  [0.47090913 0.63916514 0.43432766 0.33423508 0.7687835  0.30734291\n",
      "   0.71700732 0.33735276]\n",
      "  [0.67313798 0.49020794 0.79301142 0.30682757 0.65524989 0.80352636\n",
      "   0.27906468 0.75575238]]\n",
      "\n",
      " [[0.74968655 0.47839151 0.28162517 0.35263613 0.00144263 0.87080138\n",
      "   0.37329498 0.85699739]\n",
      "  [0.47752427 0.99047029 0.86325503 0.76761873 0.55909523 0.16863188\n",
      "   0.53195036 0.87169442]\n",
      "  [0.74112001 0.81479185 0.20612439 0.1175282  0.93290271 0.47006157\n",
      "   0.32197006 0.03135313]\n",
      "  [0.481782   0.43964858 0.22386342 0.03885139 0.65228115 0.48095721\n",
      "   0.49309747 0.96803394]\n",
      "  [0.12088909 0.60284217 0.40858051 0.56349842 0.78890505 0.83147192\n",
      "   0.53050683 0.26030422]\n",
      "  [0.80147387 0.42280102 0.99327846 0.93505107 0.0772587  0.78775169\n",
      "   0.32188244 0.08849537]\n",
      "  [0.24821893 0.03693154 0.61018791 0.37448451 0.73099482 0.48712961\n",
      "   0.108595   0.15858143]]\n",
      "\n",
      " [[0.27338813 0.3008547  0.24874783 0.53491517 0.18695152 0.02940067\n",
      "   0.5592989  0.07763775]\n",
      "  [0.17240626 0.41094585 0.55367869 0.02539477 0.9896038  0.4738248\n",
      "   0.73430242 0.51449844]\n",
      "  [0.79633513 0.19303392 0.28027024 0.49764933 0.08714619 0.58116402\n",
      "   0.31363841 0.95868262]\n",
      "  [0.06160381 0.89944324 0.55818544 0.5885493  0.05487567 0.31777305\n",
      "   0.06809175 0.60623555]\n",
      "  [0.71832646 0.51213311 0.88347054 0.55953408 0.98987335 0.70792365\n",
      "   0.15222202 0.64144495]\n",
      "  [0.43404158 0.73080916 0.17359581 0.17984391 0.76733941 0.11742477\n",
      "   0.24083077 0.58562949]\n",
      "  [0.49637331 0.65804686 0.64757312 0.18258161 0.50200422 0.78136783\n",
      "   0.76876105 0.44019316]]]\n"
     ]
    },
    {
     "data": {
      "text/plain": [
       "(1, 5, 4)"
      ]
     },
     "execution_count": 53,
     "metadata": {},
     "output_type": "execute_result"
    }
   ],
   "source": [
    "h = np.random.rand(6,7,8)\n",
    "print(h)\n",
    "np.unravel_index(100, h.shape)"
   ]
  },
  {
   "cell_type": "code",
   "execution_count": 32,
   "metadata": {},
   "outputs": [
    {
     "name": "stdout",
     "output_type": "stream",
     "text": [
      "Help on built-in function unravel_index in module numpy.core.multiarray:\n",
      "\n",
      "unravel_index(...)\n",
      "    unravel_index(indices, dims, order='C')\n",
      "    \n",
      "    Converts a flat index or array of flat indices into a tuple\n",
      "    of coordinate arrays.\n",
      "    \n",
      "    Parameters\n",
      "    ----------\n",
      "    indices : array_like\n",
      "        An integer array whose elements are indices into the flattened\n",
      "        version of an array of dimensions ``dims``. Before version 1.6.0,\n",
      "        this function accepted just one index value.\n",
      "    dims : tuple of ints\n",
      "        The shape of the array to use for unraveling ``indices``.\n",
      "    order : {'C', 'F'}, optional\n",
      "        Determines whether the indices should be viewed as indexing in\n",
      "        row-major (C-style) or column-major (Fortran-style) order.\n",
      "    \n",
      "        .. versionadded:: 1.6.0\n",
      "    \n",
      "    Returns\n",
      "    -------\n",
      "    unraveled_coords : tuple of ndarray\n",
      "        Each array in the tuple has the same shape as the ``indices``\n",
      "        array.\n",
      "    \n",
      "    See Also\n",
      "    --------\n",
      "    ravel_multi_index\n",
      "    \n",
      "    Examples\n",
      "    --------\n",
      "    >>> np.unravel_index([22, 41, 37], (7,6))\n",
      "    (array([3, 6, 6]), array([4, 5, 1]))\n",
      "    >>> np.unravel_index([31, 41, 13], (7,6), order='F')\n",
      "    (array([3, 6, 6]), array([4, 5, 1]))\n",
      "    \n",
      "    >>> np.unravel_index(1621, (6,7,8,9))\n",
      "    (3, 1, 4, 1)\n",
      "\n"
     ]
    }
   ],
   "source": [
    "help(unravel_index)"
   ]
  },
  {
   "cell_type": "markdown",
   "metadata": {},
   "source": [
    "19. Create a checkerboard 8x8 matrix using the tile function"
   ]
  },
  {
   "cell_type": "code",
   "execution_count": 54,
   "metadata": {
    "scrolled": true
   },
   "outputs": [
    {
     "name": "stdout",
     "output_type": "stream",
     "text": [
      "[[0 1 0 1 0 1 0 1]\n",
      " [1 0 1 0 1 0 1 0]\n",
      " [0 1 0 1 0 1 0 1]\n",
      " [1 0 1 0 1 0 1 0]\n",
      " [0 1 0 1 0 1 0 1]\n",
      " [1 0 1 0 1 0 1 0]\n",
      " [0 1 0 1 0 1 0 1]\n",
      " [1 0 1 0 1 0 1 0]]\n"
     ]
    }
   ],
   "source": [
    "i = np.tile( np.array([[0,1],[1,0]]), (4,4))\n",
    "print(i)"
   ]
  },
  {
   "cell_type": "code",
   "execution_count": null,
   "metadata": {},
   "outputs": [],
   "source": []
  },
  {
   "cell_type": "markdown",
   "metadata": {},
   "source": [
    "20. Generate a 5x5 random matrix. Find the maximum and minimum values in this array. Scale all values to the range `[0, 1]` using the formula \n",
    "\n",
    "\\begin{equation*}\n",
    "X' = \\frac{ X - X_{min} }{ X_{max} - X_{min}}\n",
    "\\end{equation*}"
   ]
  },
  {
   "cell_type": "code",
   "execution_count": 85,
   "metadata": {},
   "outputs": [
    {
     "name": "stdout",
     "output_type": "stream",
     "text": [
      "[[0.5075483  0.74184546 0.08361147 0.41503274 0.25030866]\n",
      " [0.48337707 0.835945   0.05633014 0.86264355 0.68866559]\n",
      " [0.76493728 0.2944627  0.16352057 0.77044254 0.05172792]\n",
      " [0.20093095 0.736449   0.16668056 0.5417677  0.93582966]\n",
      " [0.78019525 0.06042793 0.77099463 0.61497908 0.83669752]]\n",
      "[[0.51557458 0.78058611 0.03606321 0.41093101 0.224613  ]\n",
      " [0.4882347  0.88702131 0.00520553 0.91721981 0.72043481]\n",
      " [0.80670507 0.27455525 0.12644772 0.81293203 0.        ]\n",
      " [0.16876229 0.77448222 0.13002196 0.55427985 1.        ]\n",
      " [0.82396324 0.00984051 0.81355649 0.63708863 0.88787248]]\n"
     ]
    }
   ],
   "source": [
    "j = np.random.rand(5,5)\n",
    "print(j)\n",
    "j_max= j.max()\n",
    "j_min= j.min()\n",
    "j_scale = (j - j_min) / (j_max - j_min)\n",
    "\n",
    "print(j_scale)"
   ]
  },
  {
   "cell_type": "markdown",
   "metadata": {},
   "source": [
    "21. Create a custom dtype that describes a colour as four unsigned bytes"
   ]
  },
  {
   "cell_type": "code",
   "execution_count": 135,
   "metadata": {},
   "outputs": [
    {
     "name": "stdout",
     "output_type": "stream",
     "text": [
      "[('r', 'u1'), ('g', 'u1'), ('b', 'u1'), ('a', 'u1')]\n"
     ]
    }
   ],
   "source": [
    "k = np.dtype([(\"r\", np.ubyte, 1),\n",
    "                  (\"g\", np.ubyte, 1),\n",
    "                  (\"b\", np.ubyte, 1),\n",
    "                  (\"a\", np.ubyte, 1)])\n",
    "print(k)"
   ]
  },
  {
   "cell_type": "markdown",
   "metadata": {},
   "source": [
    "22. Multiply a 5x3 matrix of ones by a 3x2 matrix of ones."
   ]
  },
  {
   "cell_type": "code",
   "execution_count": 90,
   "metadata": {},
   "outputs": [
    {
     "name": "stdout",
     "output_type": "stream",
     "text": [
      "[[1. 1. 1.]\n",
      " [1. 1. 1.]\n",
      " [1. 1. 1.]\n",
      " [1. 1. 1.]\n",
      " [1. 1. 1.]]\n",
      "[[1. 1.]\n",
      " [1. 1.]\n",
      " [1. 1.]]\n",
      "[[3. 3.]\n",
      " [3. 3.]\n",
      " [3. 3.]\n",
      " [3. 3.]\n",
      " [3. 3.]]\n"
     ]
    }
   ],
   "source": [
    "l = np.ones((5,3))\n",
    "print(l)\n",
    "m = np.ones((3,2))\n",
    "print(m)\n",
    "l_m = np.dot(l,m)\n",
    "print(l_m)"
   ]
  },
  {
   "cell_type": "markdown",
   "metadata": {},
   "source": [
    "23. Make a one-dimensional array representing the scalars 0 to 10. Multiply by -1 all elements, in place, that are between 3 and 8."
   ]
  },
  {
   "cell_type": "code",
   "execution_count": 117,
   "metadata": {
    "scrolled": true
   },
   "outputs": [
    {
     "name": "stdout",
     "output_type": "stream",
     "text": [
      "[ 0  1  2  3  4  5  6  7  8  9 10]\n",
      "[-4 -5 -6 -7]\n"
     ]
    }
   ],
   "source": [
    "n = np.arange(11)\n",
    "print(n)\n",
    "n2 = n[(n>3) & (n<8)]\n",
    "print(n2*-1)"
   ]
  },
  {
   "cell_type": "code",
   "execution_count": null,
   "metadata": {},
   "outputs": [],
   "source": []
  },
  {
   "cell_type": "markdown",
   "metadata": {},
   "source": [
    "24. Explain the results of the following script:\n",
    "\n",
    "`\n",
    "print(sum(range(5),-1))\n",
    "from numpy import *\n",
    "print(sum(range(5),-1))`"
   ]
  },
  {
   "cell_type": "code",
   "execution_count": 133,
   "metadata": {},
   "outputs": [
    {
     "name": "stdout",
     "output_type": "stream",
     "text": [
      "9\n",
      "10\n"
     ]
    }
   ],
   "source": [
    "print(sum(range(5),-1))\n",
    "from numpy import *\n",
    "print(sum(range(5),-1))"
   ]
  },
  {
   "cell_type": "markdown",
   "metadata": {},
   "source": [
    "25. Given an integer vector `Z`, which of the following expressions are legal? Have a guess then test them.\n",
    "\n",
    "(a) `Z**Z`\n",
    "\n",
    "(b) `2 << Z >> 2`\n",
    "\n",
    "(c) `Z <- Z`\n",
    "\n",
    "(d) `lj*Z`\n",
    "\n",
    "(c) `Z/1/1`\n",
    "\n",
    "(e) `Z<Z>Z`"
   ]
  },
  {
   "cell_type": "code",
   "execution_count": 131,
   "metadata": {},
   "outputs": [
    {
     "name": "stdout",
     "output_type": "stream",
     "text": [
      "[ 1  2  4  7  9 10]\n",
      "[         1          4        256     823543  387420489 1410065408]\n",
      "[  1   2   8  64 256 512]\n",
      "[False False False False False False]\n",
      "[ 1.  2.  4.  7.  9. 10.]\n"
     ]
    }
   ],
   "source": [
    "Z = np.array([1,2,4,7,9,10])\n",
    "print(z)\n",
    "print(Z**Z)\n",
    "print(2 << Z >> 2)\n",
    "print(Z <- Z)\n",
    "#print(lj*Z)\n",
    "print(Z/1/1)\n",
    "#print(Z<Z>Z)\n"
   ]
  },
  {
   "cell_type": "markdown",
   "metadata": {},
   "source": [
    "26. What are the results of the following expressions? Have a guess then try them out.\n",
    "\n",
    "(a) `np.array(0) // np.array(0)`\n",
    "\n",
    "(b) `np.array(0) // np.array(0.)`\n",
    "\n",
    "(c) `np.array(0) / np.array(0)`\n",
    "\n",
    "(d) `np.array(0) / np.array(0.)`"
   ]
  },
  {
   "cell_type": "code",
   "execution_count": 143,
   "metadata": {},
   "outputs": [
    {
     "name": "stdout",
     "output_type": "stream",
     "text": [
      "0\n",
      "nan\n",
      "nan\n",
      "nan\n"
     ]
    },
    {
     "name": "stderr",
     "output_type": "stream",
     "text": [
      "C:\\Users\\jam19e\\AppData\\Local\\Continuum\\anaconda3\\lib\\site-packages\\ipykernel_launcher.py:1: RuntimeWarning: divide by zero encountered in floor_divide\n",
      "  \"\"\"Entry point for launching an IPython kernel.\n",
      "C:\\Users\\jam19e\\AppData\\Local\\Continuum\\anaconda3\\lib\\site-packages\\ipykernel_launcher.py:2: RuntimeWarning: invalid value encountered in floor_divide\n",
      "  \n",
      "C:\\Users\\jam19e\\AppData\\Local\\Continuum\\anaconda3\\lib\\site-packages\\ipykernel_launcher.py:3: RuntimeWarning: invalid value encountered in true_divide\n",
      "  This is separate from the ipykernel package so we can avoid doing imports until\n",
      "C:\\Users\\jam19e\\AppData\\Local\\Continuum\\anaconda3\\lib\\site-packages\\ipykernel_launcher.py:4: RuntimeWarning: invalid value encountered in true_divide\n",
      "  after removing the cwd from sys.path.\n"
     ]
    }
   ],
   "source": [
    "print(np.array(0) // np.array(0))\n",
    "print(np.array(0) // np.array(0.))\n",
    "print(np.array(0) / np.array(0))\n",
    "print(np.array(0) / np.array(0.))"
   ]
  },
  {
   "cell_type": "markdown",
   "metadata": {},
   "source": [
    "27. Build an one dimensional array of floats with a uniform distribution between the values of +10 and -10. Use the numpy funtions `trunc` and `copysign` to round each element of this array off to the nearest integer."
   ]
  },
  {
   "cell_type": "code",
   "execution_count": 181,
   "metadata": {},
   "outputs": [
    {
     "name": "stdout",
     "output_type": "stream",
     "text": [
      "[ 2.61764839 -8.07714388 -0.85513185  7.66506251 -7.96235116]\n",
      "[ 2. -8. -0.  7. -7.]\n",
      "[2.61764839 8.07714388 0.85513185 7.66506251 7.96235116]\n"
     ]
    }
   ],
   "source": [
    "o = np.random.uniform(-10,+10,5)\n",
    "print(o)\n",
    "o2 = np.trunc(o)\n",
    "print(o2)\n",
    "o3 = np.copysign(o, 1) # not sure what this doing?\n",
    "print(o3)"
   ]
  },
  {
   "cell_type": "code",
   "execution_count": null,
   "metadata": {},
   "outputs": [],
   "source": []
  },
  {
   "cell_type": "markdown",
   "metadata": {},
   "source": [
    "28. Using your array of floats from (27), extract the integer part using as many different methods as you can (five should be possible). "
   ]
  },
  {
   "cell_type": "code",
   "execution_count": 199,
   "metadata": {},
   "outputs": [
    {
     "name": "stdout",
     "output_type": "stream",
     "text": [
      "[ 3. -8. -1.  8. -8.]\n",
      "[ 2. -8. -0.  7. -7.]\n",
      "[ 2. -9. -1.  7. -8.]\n",
      "[ 2 -8  0  7 -7]\n"
     ]
    }
   ],
   "source": [
    "print(np.round(o))\n",
    "print(np.trunc(o))\n",
    "print(np.floor(o))\n",
    "print(o.astype(int))"
   ]
  },
  {
   "cell_type": "markdown",
   "metadata": {},
   "source": [
    "29. Create a 5x5 matrix with row values ranging from 0 to 4."
   ]
  },
  {
   "cell_type": "code",
   "execution_count": 226,
   "metadata": {},
   "outputs": [
    {
     "name": "stdout",
     "output_type": "stream",
     "text": [
      "[0 1 2 3 4]\n",
      "[[0 1 2 3 4]\n",
      " [0 1 2 3 4]\n",
      " [0 1 2 3 4]\n",
      " [0 1 2 3 4]\n",
      " [0 1 2 3 4]]\n"
     ]
    }
   ],
   "source": [
    "p = np.arange(5)\n",
    "print(p)\n",
    "\n",
    "p2 = array([(p),]*5)\n",
    "print(p2)"
   ]
  },
  {
   "cell_type": "markdown",
   "metadata": {},
   "source": [
    "30. Create a vector of size 10 with values ranging from 0 to 1, both excluded."
   ]
  },
  {
   "cell_type": "code",
   "execution_count": 234,
   "metadata": {
    "scrolled": true
   },
   "outputs": [
    {
     "name": "stdout",
     "output_type": "stream",
     "text": [
      "[0.65657885 0.26868119 0.48909637 0.35024383 0.4501014  0.50953888\n",
      " 0.80520837 0.26451483 0.23868338 0.79723992]\n"
     ]
    }
   ],
   "source": [
    "q = np.random.rand(10)\n",
    "print(q)"
   ]
  },
  {
   "cell_type": "markdown",
   "metadata": {},
   "source": [
    "31. Create a random vector of size 10 and sort it."
   ]
  },
  {
   "cell_type": "code",
   "execution_count": 246,
   "metadata": {
    "scrolled": false
   },
   "outputs": [
    {
     "name": "stdout",
     "output_type": "stream",
     "text": [
      "[0.56653171 0.95537074 0.80536436 0.80639317 0.38969995 0.29089605\n",
      " 0.06295657 0.00850861 0.64237763 0.91788756]\n",
      "[0.00850861 0.06295657 0.29089605 0.38969995 0.56653171 0.64237763\n",
      " 0.80536436 0.80639317 0.91788756 0.95537074]\n"
     ]
    }
   ],
   "source": [
    "r = np.random.rand(10)\n",
    "print(r)\n",
    "r2 = np.sort(r)\n",
    "print(r2)"
   ]
  },
  {
   "cell_type": "markdown",
   "metadata": {},
   "source": [
    "32. What does `np.add.reduce()` do? What is the alternative? What are its advantages?"
   ]
  },
  {
   "cell_type": "code",
   "execution_count": 255,
   "metadata": {},
   "outputs": [
    {
     "name": "stdout",
     "output_type": "stream",
     "text": [
      "[0 1 2 3 4 5 6 7 8 9]\n",
      "[ 0  1  3  6 10 15 21 28 36 45]\n",
      "45\n"
     ]
    }
   ],
   "source": [
    "s = np.arange(10)\n",
    "print(s)\n",
    "print(np.add.accumulate(s))\n",
    "print(np.add.reduce(s))"
   ]
  },
  {
   "cell_type": "code",
   "execution_count": 260,
   "metadata": {},
   "outputs": [
    {
     "name": "stdout",
     "output_type": "stream",
     "text": [
      "Help on built-in function rand:\n",
      "\n",
      "rand(...) method of mtrand.RandomState instance\n",
      "    rand(d0, d1, ..., dn)\n",
      "    \n",
      "    Random values in a given shape.\n",
      "    \n",
      "    Create an array of the given shape and populate it with\n",
      "    random samples from a uniform distribution\n",
      "    over ``[0, 1)``.\n",
      "    \n",
      "    Parameters\n",
      "    ----------\n",
      "    d0, d1, ..., dn : int, optional\n",
      "        The dimensions of the returned array, should all be positive.\n",
      "        If no argument is given a single Python float is returned.\n",
      "    \n",
      "    Returns\n",
      "    -------\n",
      "    out : ndarray, shape ``(d0, d1, ..., dn)``\n",
      "        Random values.\n",
      "    \n",
      "    See Also\n",
      "    --------\n",
      "    random\n",
      "    \n",
      "    Notes\n",
      "    -----\n",
      "    This is a convenience function. If you want an interface that\n",
      "    takes a shape-tuple as the first argument, refer to\n",
      "    np.random.random_sample .\n",
      "    \n",
      "    Examples\n",
      "    --------\n",
      "    >>> np.random.rand(3,2)\n",
      "    array([[ 0.14022471,  0.96360618],  #random\n",
      "           [ 0.37601032,  0.25528411],  #random\n",
      "           [ 0.49313049,  0.94909878]]) #random\n",
      "\n"
     ]
    }
   ],
   "source": [
    "help(np.random.rand)"
   ]
  },
  {
   "cell_type": "markdown",
   "metadata": {},
   "source": [
    "33. Make two random arrays A and B with dimensions 0,2,5. Check if they are equal or not."
   ]
  },
  {
   "cell_type": "code",
   "execution_count": 264,
   "metadata": {},
   "outputs": [
    {
     "name": "stdout",
     "output_type": "stream",
     "text": [
      "[]\n",
      "[]\n"
     ]
    },
    {
     "data": {
      "text/plain": [
       "True"
      ]
     },
     "execution_count": 264,
     "metadata": {},
     "output_type": "execute_result"
    }
   ],
   "source": [
    "A = np.random.rand(0,2,5)\n",
    "print(A)\n",
    "B = np.random.rand(0,2,5)\n",
    "print(B)\n",
    "array_equal(A,B)"
   ]
  },
  {
   "cell_type": "markdown",
   "metadata": {},
   "source": [
    "34. Make a null array of size 10. Convert it to an immutable, read-only array. Now, try and replace the first value with 1. "
   ]
  },
  {
   "cell_type": "code",
   "execution_count": 271,
   "metadata": {},
   "outputs": [
    {
     "name": "stdout",
     "output_type": "stream",
     "text": [
      "[0. 0. 0. 0. 0. 0. 0. 0. 0. 0.]\n",
      "False\n"
     ]
    }
   ],
   "source": [
    "t = np.zeros(10) \n",
    "print(t)\n",
    "t2 = t.flags.writeable = False\n",
    "#t2[0] = 1 This will return an error"
   ]
  },
  {
   "cell_type": "markdown",
   "metadata": {},
   "source": [
    "35. Make a random 10x2 array - let's say this represents cartesian coordinate `(x, y)`.  How do you convert cartesian coordinates to polar coordinates? \n",
    "\n",
    "![Cartesian to polar](https://keisan.casio.com/keisan/lib/real/system/2006/1223526375/PolarCartesian.gif)\n",
    "\n",
    "\n",
    "Convert your array to represent the polar coordinates."
   ]
  },
  {
   "cell_type": "code",
   "execution_count": null,
   "metadata": {},
   "outputs": [],
   "source": [
    "#u"
   ]
  },
  {
   "cell_type": "markdown",
   "metadata": {},
   "source": [
    "36. Create a random vector of size 10 and replace the maximum value by 0."
   ]
  },
  {
   "cell_type": "code",
   "execution_count": 300,
   "metadata": {},
   "outputs": [
    {
     "name": "stdout",
     "output_type": "stream",
     "text": [
      "[0.31212788 0.63068283 0.57326468 0.35427347 0.70568504 0.09647678\n",
      " 0.04517397 0.62842373 0.4995395  0.72978536]\n",
      "[0.31212788 0.63068283 0.57326468 0.35427347 0.70568504 0.09647678\n",
      " 0.04517397 0.62842373 0.4995395  0.        ]\n"
     ]
    }
   ],
   "source": [
    "v = np.random.rand(10)\n",
    "print(v)\n",
    "v[v.argmax()] = 0\n",
    "print(v)"
   ]
  },
  {
   "cell_type": "markdown",
   "metadata": {},
   "source": [
    "37. Create a structured array with x and y coordinates at uniform spacings over the [0,1]x[0,1] area."
   ]
  },
  {
   "cell_type": "code",
   "execution_count": null,
   "metadata": {},
   "outputs": [],
   "source": []
  },
  {
   "cell_type": "markdown",
   "metadata": {},
   "source": [
    "38. Make two different arrays `X` and `Y` with dimensions 1x8. Use these arrays to construct to Cauchy matrix `C` \n",
    "\n",
    "\\begin{equation*}\n",
    "C_{ij} = \\frac{ 1 }{ x_i - y_j}\n",
    "\\end{equation*}"
   ]
  },
  {
   "cell_type": "code",
   "execution_count": null,
   "metadata": {},
   "outputs": [],
   "source": []
  },
  {
   "cell_type": "markdown",
   "metadata": {},
   "source": [
    "39. Print the minimum and maximum representable value for each numpy scalar type"
   ]
  },
  {
   "cell_type": "code",
   "execution_count": null,
   "metadata": {},
   "outputs": [],
   "source": []
  },
  {
   "cell_type": "markdown",
   "metadata": {},
   "source": [
    "40. Make yourself a big array: `Z = np.arange(2500).reshape(50,50)`.\n",
    "\n",
    "Try `print(Z)`.\n",
    "\n",
    "How would you print the entire array, if you wanted to?"
   ]
  },
  {
   "cell_type": "code",
   "execution_count": 306,
   "metadata": {},
   "outputs": [
    {
     "name": "stdout",
     "output_type": "stream",
     "text": [
      "[[   0    1    2    3    4    5    6    7    8    9   10   11   12   13\n",
      "    14   15   16   17   18   19   20   21   22   23   24   25   26   27\n",
      "    28   29   30   31   32   33   34   35   36   37   38   39   40   41\n",
      "    42   43   44   45   46   47   48   49]\n",
      " [  50   51   52   53   54   55   56   57   58   59   60   61   62   63\n",
      "    64   65   66   67   68   69   70   71   72   73   74   75   76   77\n",
      "    78   79   80   81   82   83   84   85   86   87   88   89   90   91\n",
      "    92   93   94   95   96   97   98   99]\n",
      " [ 100  101  102  103  104  105  106  107  108  109  110  111  112  113\n",
      "   114  115  116  117  118  119  120  121  122  123  124  125  126  127\n",
      "   128  129  130  131  132  133  134  135  136  137  138  139  140  141\n",
      "   142  143  144  145  146  147  148  149]\n",
      " [ 150  151  152  153  154  155  156  157  158  159  160  161  162  163\n",
      "   164  165  166  167  168  169  170  171  172  173  174  175  176  177\n",
      "   178  179  180  181  182  183  184  185  186  187  188  189  190  191\n",
      "   192  193  194  195  196  197  198  199]\n",
      " [ 200  201  202  203  204  205  206  207  208  209  210  211  212  213\n",
      "   214  215  216  217  218  219  220  221  222  223  224  225  226  227\n",
      "   228  229  230  231  232  233  234  235  236  237  238  239  240  241\n",
      "   242  243  244  245  246  247  248  249]\n",
      " [ 250  251  252  253  254  255  256  257  258  259  260  261  262  263\n",
      "   264  265  266  267  268  269  270  271  272  273  274  275  276  277\n",
      "   278  279  280  281  282  283  284  285  286  287  288  289  290  291\n",
      "   292  293  294  295  296  297  298  299]\n",
      " [ 300  301  302  303  304  305  306  307  308  309  310  311  312  313\n",
      "   314  315  316  317  318  319  320  321  322  323  324  325  326  327\n",
      "   328  329  330  331  332  333  334  335  336  337  338  339  340  341\n",
      "   342  343  344  345  346  347  348  349]\n",
      " [ 350  351  352  353  354  355  356  357  358  359  360  361  362  363\n",
      "   364  365  366  367  368  369  370  371  372  373  374  375  376  377\n",
      "   378  379  380  381  382  383  384  385  386  387  388  389  390  391\n",
      "   392  393  394  395  396  397  398  399]\n",
      " [ 400  401  402  403  404  405  406  407  408  409  410  411  412  413\n",
      "   414  415  416  417  418  419  420  421  422  423  424  425  426  427\n",
      "   428  429  430  431  432  433  434  435  436  437  438  439  440  441\n",
      "   442  443  444  445  446  447  448  449]\n",
      " [ 450  451  452  453  454  455  456  457  458  459  460  461  462  463\n",
      "   464  465  466  467  468  469  470  471  472  473  474  475  476  477\n",
      "   478  479  480  481  482  483  484  485  486  487  488  489  490  491\n",
      "   492  493  494  495  496  497  498  499]\n",
      " [ 500  501  502  503  504  505  506  507  508  509  510  511  512  513\n",
      "   514  515  516  517  518  519  520  521  522  523  524  525  526  527\n",
      "   528  529  530  531  532  533  534  535  536  537  538  539  540  541\n",
      "   542  543  544  545  546  547  548  549]\n",
      " [ 550  551  552  553  554  555  556  557  558  559  560  561  562  563\n",
      "   564  565  566  567  568  569  570  571  572  573  574  575  576  577\n",
      "   578  579  580  581  582  583  584  585  586  587  588  589  590  591\n",
      "   592  593  594  595  596  597  598  599]\n",
      " [ 600  601  602  603  604  605  606  607  608  609  610  611  612  613\n",
      "   614  615  616  617  618  619  620  621  622  623  624  625  626  627\n",
      "   628  629  630  631  632  633  634  635  636  637  638  639  640  641\n",
      "   642  643  644  645  646  647  648  649]\n",
      " [ 650  651  652  653  654  655  656  657  658  659  660  661  662  663\n",
      "   664  665  666  667  668  669  670  671  672  673  674  675  676  677\n",
      "   678  679  680  681  682  683  684  685  686  687  688  689  690  691\n",
      "   692  693  694  695  696  697  698  699]\n",
      " [ 700  701  702  703  704  705  706  707  708  709  710  711  712  713\n",
      "   714  715  716  717  718  719  720  721  722  723  724  725  726  727\n",
      "   728  729  730  731  732  733  734  735  736  737  738  739  740  741\n",
      "   742  743  744  745  746  747  748  749]\n",
      " [ 750  751  752  753  754  755  756  757  758  759  760  761  762  763\n",
      "   764  765  766  767  768  769  770  771  772  773  774  775  776  777\n",
      "   778  779  780  781  782  783  784  785  786  787  788  789  790  791\n",
      "   792  793  794  795  796  797  798  799]\n",
      " [ 800  801  802  803  804  805  806  807  808  809  810  811  812  813\n",
      "   814  815  816  817  818  819  820  821  822  823  824  825  826  827\n",
      "   828  829  830  831  832  833  834  835  836  837  838  839  840  841\n",
      "   842  843  844  845  846  847  848  849]\n",
      " [ 850  851  852  853  854  855  856  857  858  859  860  861  862  863\n",
      "   864  865  866  867  868  869  870  871  872  873  874  875  876  877\n",
      "   878  879  880  881  882  883  884  885  886  887  888  889  890  891\n",
      "   892  893  894  895  896  897  898  899]\n",
      " [ 900  901  902  903  904  905  906  907  908  909  910  911  912  913\n",
      "   914  915  916  917  918  919  920  921  922  923  924  925  926  927\n",
      "   928  929  930  931  932  933  934  935  936  937  938  939  940  941\n",
      "   942  943  944  945  946  947  948  949]\n",
      " [ 950  951  952  953  954  955  956  957  958  959  960  961  962  963\n",
      "   964  965  966  967  968  969  970  971  972  973  974  975  976  977\n",
      "   978  979  980  981  982  983  984  985  986  987  988  989  990  991\n",
      "   992  993  994  995  996  997  998  999]\n",
      " [1000 1001 1002 1003 1004 1005 1006 1007 1008 1009 1010 1011 1012 1013\n",
      "  1014 1015 1016 1017 1018 1019 1020 1021 1022 1023 1024 1025 1026 1027\n",
      "  1028 1029 1030 1031 1032 1033 1034 1035 1036 1037 1038 1039 1040 1041\n",
      "  1042 1043 1044 1045 1046 1047 1048 1049]\n",
      " [1050 1051 1052 1053 1054 1055 1056 1057 1058 1059 1060 1061 1062 1063\n",
      "  1064 1065 1066 1067 1068 1069 1070 1071 1072 1073 1074 1075 1076 1077\n",
      "  1078 1079 1080 1081 1082 1083 1084 1085 1086 1087 1088 1089 1090 1091\n",
      "  1092 1093 1094 1095 1096 1097 1098 1099]\n",
      " [1100 1101 1102 1103 1104 1105 1106 1107 1108 1109 1110 1111 1112 1113\n",
      "  1114 1115 1116 1117 1118 1119 1120 1121 1122 1123 1124 1125 1126 1127\n",
      "  1128 1129 1130 1131 1132 1133 1134 1135 1136 1137 1138 1139 1140 1141\n",
      "  1142 1143 1144 1145 1146 1147 1148 1149]\n",
      " [1150 1151 1152 1153 1154 1155 1156 1157 1158 1159 1160 1161 1162 1163\n",
      "  1164 1165 1166 1167 1168 1169 1170 1171 1172 1173 1174 1175 1176 1177\n",
      "  1178 1179 1180 1181 1182 1183 1184 1185 1186 1187 1188 1189 1190 1191\n",
      "  1192 1193 1194 1195 1196 1197 1198 1199]\n",
      " [1200 1201 1202 1203 1204 1205 1206 1207 1208 1209 1210 1211 1212 1213\n",
      "  1214 1215 1216 1217 1218 1219 1220 1221 1222 1223 1224 1225 1226 1227\n",
      "  1228 1229 1230 1231 1232 1233 1234 1235 1236 1237 1238 1239 1240 1241\n",
      "  1242 1243 1244 1245 1246 1247 1248 1249]\n",
      " [1250 1251 1252 1253 1254 1255 1256 1257 1258 1259 1260 1261 1262 1263\n",
      "  1264 1265 1266 1267 1268 1269 1270 1271 1272 1273 1274 1275 1276 1277\n",
      "  1278 1279 1280 1281 1282 1283 1284 1285 1286 1287 1288 1289 1290 1291\n",
      "  1292 1293 1294 1295 1296 1297 1298 1299]\n",
      " [1300 1301 1302 1303 1304 1305 1306 1307 1308 1309 1310 1311 1312 1313\n",
      "  1314 1315 1316 1317 1318 1319 1320 1321 1322 1323 1324 1325 1326 1327\n",
      "  1328 1329 1330 1331 1332 1333 1334 1335 1336 1337 1338 1339 1340 1341\n",
      "  1342 1343 1344 1345 1346 1347 1348 1349]\n",
      " [1350 1351 1352 1353 1354 1355 1356 1357 1358 1359 1360 1361 1362 1363\n",
      "  1364 1365 1366 1367 1368 1369 1370 1371 1372 1373 1374 1375 1376 1377\n",
      "  1378 1379 1380 1381 1382 1383 1384 1385 1386 1387 1388 1389 1390 1391\n",
      "  1392 1393 1394 1395 1396 1397 1398 1399]\n",
      " [1400 1401 1402 1403 1404 1405 1406 1407 1408 1409 1410 1411 1412 1413\n",
      "  1414 1415 1416 1417 1418 1419 1420 1421 1422 1423 1424 1425 1426 1427\n",
      "  1428 1429 1430 1431 1432 1433 1434 1435 1436 1437 1438 1439 1440 1441\n",
      "  1442 1443 1444 1445 1446 1447 1448 1449]\n",
      " [1450 1451 1452 1453 1454 1455 1456 1457 1458 1459 1460 1461 1462 1463\n",
      "  1464 1465 1466 1467 1468 1469 1470 1471 1472 1473 1474 1475 1476 1477\n",
      "  1478 1479 1480 1481 1482 1483 1484 1485 1486 1487 1488 1489 1490 1491\n",
      "  1492 1493 1494 1495 1496 1497 1498 1499]\n",
      " [1500 1501 1502 1503 1504 1505 1506 1507 1508 1509 1510 1511 1512 1513\n",
      "  1514 1515 1516 1517 1518 1519 1520 1521 1522 1523 1524 1525 1526 1527\n",
      "  1528 1529 1530 1531 1532 1533 1534 1535 1536 1537 1538 1539 1540 1541\n",
      "  1542 1543 1544 1545 1546 1547 1548 1549]\n",
      " [1550 1551 1552 1553 1554 1555 1556 1557 1558 1559 1560 1561 1562 1563\n",
      "  1564 1565 1566 1567 1568 1569 1570 1571 1572 1573 1574 1575 1576 1577\n",
      "  1578 1579 1580 1581 1582 1583 1584 1585 1586 1587 1588 1589 1590 1591\n",
      "  1592 1593 1594 1595 1596 1597 1598 1599]\n",
      " [1600 1601 1602 1603 1604 1605 1606 1607 1608 1609 1610 1611 1612 1613\n",
      "  1614 1615 1616 1617 1618 1619 1620 1621 1622 1623 1624 1625 1626 1627\n",
      "  1628 1629 1630 1631 1632 1633 1634 1635 1636 1637 1638 1639 1640 1641\n",
      "  1642 1643 1644 1645 1646 1647 1648 1649]\n",
      " [1650 1651 1652 1653 1654 1655 1656 1657 1658 1659 1660 1661 1662 1663\n",
      "  1664 1665 1666 1667 1668 1669 1670 1671 1672 1673 1674 1675 1676 1677\n",
      "  1678 1679 1680 1681 1682 1683 1684 1685 1686 1687 1688 1689 1690 1691\n",
      "  1692 1693 1694 1695 1696 1697 1698 1699]\n",
      " [1700 1701 1702 1703 1704 1705 1706 1707 1708 1709 1710 1711 1712 1713\n",
      "  1714 1715 1716 1717 1718 1719 1720 1721 1722 1723 1724 1725 1726 1727\n",
      "  1728 1729 1730 1731 1732 1733 1734 1735 1736 1737 1738 1739 1740 1741\n",
      "  1742 1743 1744 1745 1746 1747 1748 1749]\n",
      " [1750 1751 1752 1753 1754 1755 1756 1757 1758 1759 1760 1761 1762 1763\n",
      "  1764 1765 1766 1767 1768 1769 1770 1771 1772 1773 1774 1775 1776 1777\n",
      "  1778 1779 1780 1781 1782 1783 1784 1785 1786 1787 1788 1789 1790 1791\n",
      "  1792 1793 1794 1795 1796 1797 1798 1799]\n",
      " [1800 1801 1802 1803 1804 1805 1806 1807 1808 1809 1810 1811 1812 1813\n",
      "  1814 1815 1816 1817 1818 1819 1820 1821 1822 1823 1824 1825 1826 1827\n",
      "  1828 1829 1830 1831 1832 1833 1834 1835 1836 1837 1838 1839 1840 1841\n",
      "  1842 1843 1844 1845 1846 1847 1848 1849]\n",
      " [1850 1851 1852 1853 1854 1855 1856 1857 1858 1859 1860 1861 1862 1863\n",
      "  1864 1865 1866 1867 1868 1869 1870 1871 1872 1873 1874 1875 1876 1877\n",
      "  1878 1879 1880 1881 1882 1883 1884 1885 1886 1887 1888 1889 1890 1891\n",
      "  1892 1893 1894 1895 1896 1897 1898 1899]\n",
      " [1900 1901 1902 1903 1904 1905 1906 1907 1908 1909 1910 1911 1912 1913\n",
      "  1914 1915 1916 1917 1918 1919 1920 1921 1922 1923 1924 1925 1926 1927\n",
      "  1928 1929 1930 1931 1932 1933 1934 1935 1936 1937 1938 1939 1940 1941\n",
      "  1942 1943 1944 1945 1946 1947 1948 1949]\n",
      " [1950 1951 1952 1953 1954 1955 1956 1957 1958 1959 1960 1961 1962 1963\n",
      "  1964 1965 1966 1967 1968 1969 1970 1971 1972 1973 1974 1975 1976 1977\n",
      "  1978 1979 1980 1981 1982 1983 1984 1985 1986 1987 1988 1989 1990 1991\n",
      "  1992 1993 1994 1995 1996 1997 1998 1999]\n",
      " [2000 2001 2002 2003 2004 2005 2006 2007 2008 2009 2010 2011 2012 2013\n",
      "  2014 2015 2016 2017 2018 2019 2020 2021 2022 2023 2024 2025 2026 2027\n",
      "  2028 2029 2030 2031 2032 2033 2034 2035 2036 2037 2038 2039 2040 2041\n",
      "  2042 2043 2044 2045 2046 2047 2048 2049]\n",
      " [2050 2051 2052 2053 2054 2055 2056 2057 2058 2059 2060 2061 2062 2063\n",
      "  2064 2065 2066 2067 2068 2069 2070 2071 2072 2073 2074 2075 2076 2077\n",
      "  2078 2079 2080 2081 2082 2083 2084 2085 2086 2087 2088 2089 2090 2091\n",
      "  2092 2093 2094 2095 2096 2097 2098 2099]\n",
      " [2100 2101 2102 2103 2104 2105 2106 2107 2108 2109 2110 2111 2112 2113\n",
      "  2114 2115 2116 2117 2118 2119 2120 2121 2122 2123 2124 2125 2126 2127\n",
      "  2128 2129 2130 2131 2132 2133 2134 2135 2136 2137 2138 2139 2140 2141\n",
      "  2142 2143 2144 2145 2146 2147 2148 2149]\n",
      " [2150 2151 2152 2153 2154 2155 2156 2157 2158 2159 2160 2161 2162 2163\n",
      "  2164 2165 2166 2167 2168 2169 2170 2171 2172 2173 2174 2175 2176 2177\n",
      "  2178 2179 2180 2181 2182 2183 2184 2185 2186 2187 2188 2189 2190 2191\n",
      "  2192 2193 2194 2195 2196 2197 2198 2199]\n",
      " [2200 2201 2202 2203 2204 2205 2206 2207 2208 2209 2210 2211 2212 2213\n",
      "  2214 2215 2216 2217 2218 2219 2220 2221 2222 2223 2224 2225 2226 2227\n",
      "  2228 2229 2230 2231 2232 2233 2234 2235 2236 2237 2238 2239 2240 2241\n",
      "  2242 2243 2244 2245 2246 2247 2248 2249]\n",
      " [2250 2251 2252 2253 2254 2255 2256 2257 2258 2259 2260 2261 2262 2263\n",
      "  2264 2265 2266 2267 2268 2269 2270 2271 2272 2273 2274 2275 2276 2277\n",
      "  2278 2279 2280 2281 2282 2283 2284 2285 2286 2287 2288 2289 2290 2291\n",
      "  2292 2293 2294 2295 2296 2297 2298 2299]\n",
      " [2300 2301 2302 2303 2304 2305 2306 2307 2308 2309 2310 2311 2312 2313\n",
      "  2314 2315 2316 2317 2318 2319 2320 2321 2322 2323 2324 2325 2326 2327\n",
      "  2328 2329 2330 2331 2332 2333 2334 2335 2336 2337 2338 2339 2340 2341\n",
      "  2342 2343 2344 2345 2346 2347 2348 2349]\n",
      " [2350 2351 2352 2353 2354 2355 2356 2357 2358 2359 2360 2361 2362 2363\n",
      "  2364 2365 2366 2367 2368 2369 2370 2371 2372 2373 2374 2375 2376 2377\n",
      "  2378 2379 2380 2381 2382 2383 2384 2385 2386 2387 2388 2389 2390 2391\n",
      "  2392 2393 2394 2395 2396 2397 2398 2399]\n",
      " [2400 2401 2402 2403 2404 2405 2406 2407 2408 2409 2410 2411 2412 2413\n",
      "  2414 2415 2416 2417 2418 2419 2420 2421 2422 2423 2424 2425 2426 2427\n",
      "  2428 2429 2430 2431 2432 2433 2434 2435 2436 2437 2438 2439 2440 2441\n",
      "  2442 2443 2444 2445 2446 2447 2448 2449]\n",
      " [2450 2451 2452 2453 2454 2455 2456 2457 2458 2459 2460 2461 2462 2463\n",
      "  2464 2465 2466 2467 2468 2469 2470 2471 2472 2473 2474 2475 2476 2477\n",
      "  2478 2479 2480 2481 2482 2483 2484 2485 2486 2487 2488 2489 2490 2491\n",
      "  2492 2493 2494 2495 2496 2497 2498 2499]]\n"
     ]
    }
   ],
   "source": [
    "y = np.arange(2500).reshape(50,50)\n",
    "np.set_printoptions(threshold=np.inf)\n",
    "print(y)"
   ]
  }
 ],
 "metadata": {
  "kernelspec": {
   "display_name": "Python 3",
   "language": "python",
   "name": "python3"
  },
  "language_info": {
   "codemirror_mode": {
    "name": "ipython",
    "version": 3
   },
   "file_extension": ".py",
   "mimetype": "text/x-python",
   "name": "python",
   "nbconvert_exporter": "python",
   "pygments_lexer": "ipython3",
   "version": "3.6.5"
  }
 },
 "nbformat": 4,
 "nbformat_minor": 2
}
