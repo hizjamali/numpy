{
 "cells": [
  {
   "cell_type": "code",
   "execution_count": 2,
   "metadata": {},
   "outputs": [],
   "source": [
    "# numpy stands for numerical python\n",
    "import numpy as np"
   ]
  },
  {
   "cell_type": "code",
   "execution_count": 3,
   "metadata": {},
   "outputs": [],
   "source": [
    "x = np.array([2,5,1])"
   ]
  },
  {
   "cell_type": "code",
   "execution_count": 4,
   "metadata": {},
   "outputs": [
    {
     "data": {
      "text/plain": [
       "array([2, 5, 1])"
      ]
     },
     "execution_count": 4,
     "metadata": {},
     "output_type": "execute_result"
    }
   ],
   "source": [
    "x"
   ]
  },
  {
   "cell_type": "code",
   "execution_count": 5,
   "metadata": {},
   "outputs": [
    {
     "data": {
      "text/plain": [
       "numpy.ndarray"
      ]
     },
     "execution_count": 5,
     "metadata": {},
     "output_type": "execute_result"
    }
   ],
   "source": [
    "type(x)"
   ]
  },
  {
   "cell_type": "code",
   "execution_count": 6,
   "metadata": {},
   "outputs": [
    {
     "data": {
      "text/plain": [
       "array([ 0.90929743, -0.95892427,  0.84147098])"
      ]
     },
     "execution_count": 6,
     "metadata": {},
     "output_type": "execute_result"
    }
   ],
   "source": [
    "np.sin(x)"
   ]
  },
  {
   "cell_type": "code",
   "execution_count": 7,
   "metadata": {},
   "outputs": [
    {
     "data": {
      "text/plain": [
       "array([4, 7, 3])"
      ]
     },
     "execution_count": 7,
     "metadata": {},
     "output_type": "execute_result"
    }
   ],
   "source": [
    "x+2"
   ]
  },
  {
   "cell_type": "code",
   "execution_count": 9,
   "metadata": {},
   "outputs": [
    {
     "data": {
      "text/plain": [
       "array([16, 40,  8])"
      ]
     },
     "execution_count": 9,
     "metadata": {},
     "output_type": "execute_result"
    }
   ],
   "source": [
    "x*8"
   ]
  },
  {
   "cell_type": "code",
   "execution_count": 10,
   "metadata": {},
   "outputs": [],
   "source": [
    "y=np.array([3,10,0,6])"
   ]
  },
  {
   "cell_type": "code",
   "execution_count": 12,
   "metadata": {},
   "outputs": [
    {
     "data": {
      "text/plain": [
       "array([0, 1, 2, 3, 4])"
      ]
     },
     "execution_count": 12,
     "metadata": {},
     "output_type": "execute_result"
    }
   ],
   "source": [
    "np.arange(5)"
   ]
  },
  {
   "cell_type": "code",
   "execution_count": 13,
   "metadata": {},
   "outputs": [
    {
     "data": {
      "text/plain": [
       "array([1., 1., 1., 1., 1., 1., 1., 1., 1., 1.])"
      ]
     },
     "execution_count": 13,
     "metadata": {},
     "output_type": "execute_result"
    }
   ],
   "source": [
    "np.ones(10)"
   ]
  },
  {
   "cell_type": "code",
   "execution_count": 15,
   "metadata": {},
   "outputs": [
    {
     "data": {
      "text/plain": [
       "array([0., 0., 0., 0., 0., 0., 0., 0., 0., 0., 0., 0., 0., 0., 0., 0., 0.,\n",
       "       0., 0., 0.])"
      ]
     },
     "execution_count": 15,
     "metadata": {},
     "output_type": "execute_result"
    }
   ],
   "source": [
    "np.zeros(20)"
   ]
  },
  {
   "cell_type": "code",
   "execution_count": 16,
   "metadata": {},
   "outputs": [],
   "source": [
    "z = np.array([0,2.3,1,2,4.9])"
   ]
  },
  {
   "cell_type": "code",
   "execution_count": 19,
   "metadata": {},
   "outputs": [
    {
     "data": {
      "text/plain": [
       "numpy.ndarray"
      ]
     },
     "execution_count": 19,
     "metadata": {},
     "output_type": "execute_result"
    }
   ],
   "source": [
    "type(z)"
   ]
  },
  {
   "cell_type": "code",
   "execution_count": 20,
   "metadata": {},
   "outputs": [
    {
     "data": {
      "text/plain": [
       "array([0. , 2.3, 1. , 2. , 4.9])"
      ]
     },
     "execution_count": 20,
     "metadata": {},
     "output_type": "execute_result"
    }
   ],
   "source": [
    "z"
   ]
  },
  {
   "cell_type": "code",
   "execution_count": 21,
   "metadata": {},
   "outputs": [
    {
     "data": {
      "text/plain": [
       "array([0.47974626, 0.32510049, 0.97397983, 0.90836292, 0.93056583,\n",
       "       0.96619068, 0.32207985, 0.9513382 , 0.29213674, 0.77095241,\n",
       "       0.92518061, 0.51484599, 0.50701859, 0.44044642, 0.23458505,\n",
       "       0.42665668, 0.29749615, 0.55661802, 0.22460833, 0.57752861,\n",
       "       0.23501285, 0.80921193, 0.83732794, 0.03284634, 0.51646327,\n",
       "       0.11549344, 0.73462895, 0.56211815, 0.33561693, 0.79819351,\n",
       "       0.21522268, 0.98832894, 0.60887867, 0.90821125, 0.69409868,\n",
       "       0.02227139, 0.87317752, 0.65865432, 0.83548529, 0.24402893,\n",
       "       0.98580142, 0.57462065, 0.37265913, 0.8443552 , 0.55386569,\n",
       "       0.27049201, 0.96996759, 0.27054169, 0.81886371, 0.6191695 ,\n",
       "       0.69252227, 0.15866238, 0.52285243, 0.84985089, 0.09741926,\n",
       "       0.55571496, 0.86745083, 0.24696943, 0.82664131, 0.23226368,\n",
       "       0.67848472, 0.95195212, 0.07031463, 0.31036689, 0.01649131,\n",
       "       0.53554198, 0.15402799, 0.84852975, 0.95135074, 0.73843762,\n",
       "       0.49774505, 0.36139917, 0.89172453, 0.44002249, 0.06579594,\n",
       "       0.98988558, 0.92962437, 0.51678314, 0.68829182, 0.54491935,\n",
       "       0.88884276, 0.65937254, 0.62733638, 0.20977706, 0.38569165,\n",
       "       0.0630884 , 0.61349862, 0.1818015 , 0.68405869, 0.02668774,\n",
       "       0.7233878 , 0.39379382, 0.86163322, 0.95088274, 0.5687813 ,\n",
       "       0.6981598 , 0.82607021, 0.77215859, 0.49857754, 0.57313152])"
      ]
     },
     "execution_count": 21,
     "metadata": {},
     "output_type": "execute_result"
    }
   ],
   "source": [
    "np.random.rand(100)"
   ]
  },
  {
   "cell_type": "code",
   "execution_count": 24,
   "metadata": {},
   "outputs": [],
   "source": [
    "x = np.array([[2,5], [3,1]])"
   ]
  },
  {
   "cell_type": "code",
   "execution_count": null,
   "metadata": {},
   "outputs": [],
   "source": []
  },
  {
   "cell_type": "code",
   "execution_count": 25,
   "metadata": {},
   "outputs": [
    {
     "data": {
      "text/plain": [
       "array([[2, 5],\n",
       "       [3, 1]])"
      ]
     },
     "execution_count": 25,
     "metadata": {},
     "output_type": "execute_result"
    }
   ],
   "source": [
    "x"
   ]
  },
  {
   "cell_type": "code",
   "execution_count": 27,
   "metadata": {},
   "outputs": [],
   "source": [
    "y = np.array([[1,3,6], [4,7,9]])"
   ]
  },
  {
   "cell_type": "code",
   "execution_count": 28,
   "metadata": {},
   "outputs": [
    {
     "data": {
      "text/plain": [
       "array([[1, 3, 6],\n",
       "       [4, 7, 9]])"
      ]
     },
     "execution_count": 28,
     "metadata": {},
     "output_type": "execute_result"
    }
   ],
   "source": [
    "y"
   ]
  },
  {
   "cell_type": "code",
   "execution_count": 29,
   "metadata": {},
   "outputs": [
    {
     "data": {
      "text/plain": [
       "array([[1., 1., 1.],\n",
       "       [1., 1., 1.],\n",
       "       [1., 1., 1.],\n",
       "       [1., 1., 1.]])"
      ]
     },
     "execution_count": 29,
     "metadata": {},
     "output_type": "execute_result"
    }
   ],
   "source": [
    "np.ones((4,3))"
   ]
  },
  {
   "cell_type": "code",
   "execution_count": 30,
   "metadata": {},
   "outputs": [
    {
     "data": {
      "text/plain": [
       "array([[0., 0.],\n",
       "       [0., 0.]])"
      ]
     },
     "execution_count": 30,
     "metadata": {},
     "output_type": "execute_result"
    }
   ],
   "source": [
    "np.zeros((2,2))"
   ]
  },
  {
   "cell_type": "code",
   "execution_count": 31,
   "metadata": {},
   "outputs": [],
   "source": [
    "a = np. arange(40)"
   ]
  },
  {
   "cell_type": "code",
   "execution_count": 32,
   "metadata": {},
   "outputs": [
    {
     "data": {
      "text/plain": [
       "array([ 0,  1,  2,  3,  4,  5,  6,  7,  8,  9, 10, 11, 12, 13, 14, 15, 16,\n",
       "       17, 18, 19, 20, 21, 22, 23, 24, 25, 26, 27, 28, 29, 30, 31, 32, 33,\n",
       "       34, 35, 36, 37, 38, 39])"
      ]
     },
     "execution_count": 32,
     "metadata": {},
     "output_type": "execute_result"
    }
   ],
   "source": [
    "a"
   ]
  },
  {
   "cell_type": "code",
   "execution_count": 33,
   "metadata": {},
   "outputs": [
    {
     "data": {
      "text/plain": [
       "array([[ 0,  1,  2,  3,  4,  5,  6,  7,  8,  9],\n",
       "       [10, 11, 12, 13, 14, 15, 16, 17, 18, 19],\n",
       "       [20, 21, 22, 23, 24, 25, 26, 27, 28, 29],\n",
       "       [30, 31, 32, 33, 34, 35, 36, 37, 38, 39]])"
      ]
     },
     "execution_count": 33,
     "metadata": {},
     "output_type": "execute_result"
    }
   ],
   "source": [
    "a.reshape(4,10)"
   ]
  },
  {
   "cell_type": "code",
   "execution_count": 34,
   "metadata": {},
   "outputs": [
    {
     "name": "stdout",
     "output_type": "stream",
     "text": [
      "Help on function eye in module numpy.lib.twodim_base:\n",
      "\n",
      "eye(N, M=None, k=0, dtype=<class 'float'>, order='C')\n",
      "    Return a 2-D array with ones on the diagonal and zeros elsewhere.\n",
      "    \n",
      "    Parameters\n",
      "    ----------\n",
      "    N : int\n",
      "      Number of rows in the output.\n",
      "    M : int, optional\n",
      "      Number of columns in the output. If None, defaults to `N`.\n",
      "    k : int, optional\n",
      "      Index of the diagonal: 0 (the default) refers to the main diagonal,\n",
      "      a positive value refers to an upper diagonal, and a negative value\n",
      "      to a lower diagonal.\n",
      "    dtype : data-type, optional\n",
      "      Data-type of the returned array.\n",
      "    order : {'C', 'F'}, optional\n",
      "        Whether the output should be stored in row-major (C-style) or\n",
      "        column-major (Fortran-style) order in memory.\n",
      "    \n",
      "        .. versionadded:: 1.14.0\n",
      "    \n",
      "    Returns\n",
      "    -------\n",
      "    I : ndarray of shape (N,M)\n",
      "      An array where all elements are equal to zero, except for the `k`-th\n",
      "      diagonal, whose values are equal to one.\n",
      "    \n",
      "    See Also\n",
      "    --------\n",
      "    identity : (almost) equivalent function\n",
      "    diag : diagonal 2-D array from a 1-D array specified by the user.\n",
      "    \n",
      "    Examples\n",
      "    --------\n",
      "    >>> np.eye(2, dtype=int)\n",
      "    array([[1, 0],\n",
      "           [0, 1]])\n",
      "    >>> np.eye(3, k=1)\n",
      "    array([[ 0.,  1.,  0.],\n",
      "           [ 0.,  0.,  1.],\n",
      "           [ 0.,  0.,  0.]])\n",
      "\n"
     ]
    }
   ],
   "source": [
    "help(np.eye)"
   ]
  },
  {
   "cell_type": "code",
   "execution_count": 49,
   "metadata": {},
   "outputs": [],
   "source": [
    "z = np.eye(5)*5"
   ]
  },
  {
   "cell_type": "code",
   "execution_count": 50,
   "metadata": {},
   "outputs": [
    {
     "data": {
      "text/plain": [
       "array([[5., 0., 0., 0., 0.],\n",
       "       [0., 5., 0., 0., 0.],\n",
       "       [0., 0., 5., 0., 0.],\n",
       "       [0., 0., 0., 5., 0.],\n",
       "       [0., 0., 0., 0., 5.]])"
      ]
     },
     "execution_count": 50,
     "metadata": {},
     "output_type": "execute_result"
    }
   ],
   "source": [
    "z"
   ]
  },
  {
   "cell_type": "code",
   "execution_count": 51,
   "metadata": {},
   "outputs": [],
   "source": [
    "data = np.loadtxt(fname='data/inflammation-01.csv', delimiter=',')"
   ]
  },
  {
   "cell_type": "code",
   "execution_count": 52,
   "metadata": {},
   "outputs": [
    {
     "name": "stdout",
     "output_type": "stream",
     "text": [
      "[[0. 0. 1. ... 3. 0. 0.]\n",
      " [0. 1. 2. ... 1. 0. 1.]\n",
      " [0. 1. 1. ... 2. 1. 1.]\n",
      " ...\n",
      " [0. 1. 1. ... 1. 1. 1.]\n",
      " [0. 0. 0. ... 0. 2. 0.]\n",
      " [0. 0. 1. ... 1. 1. 0.]]\n"
     ]
    }
   ],
   "source": [
    "print(data)"
   ]
  },
  {
   "cell_type": "code",
   "execution_count": 53,
   "metadata": {},
   "outputs": [
    {
     "name": "stdout",
     "output_type": "stream",
     "text": [
      "<class 'numpy.ndarray'>\n"
     ]
    }
   ],
   "source": [
    "print(type(data))"
   ]
  },
  {
   "cell_type": "code",
   "execution_count": 54,
   "metadata": {},
   "outputs": [
    {
     "data": {
      "text/plain": [
       "dtype('float64')"
      ]
     },
     "execution_count": 54,
     "metadata": {},
     "output_type": "execute_result"
    }
   ],
   "source": [
    "data.dtype"
   ]
  },
  {
   "cell_type": "code",
   "execution_count": 55,
   "metadata": {},
   "outputs": [
    {
     "data": {
      "text/plain": [
       "(60, 40)"
      ]
     },
     "execution_count": 55,
     "metadata": {},
     "output_type": "execute_result"
    }
   ],
   "source": [
    "data.shape # no of rows and columns"
   ]
  },
  {
   "cell_type": "code",
   "execution_count": 57,
   "metadata": {},
   "outputs": [
    {
     "data": {
      "text/plain": [
       "16.0"
      ]
     },
     "execution_count": 57,
     "metadata": {},
     "output_type": "execute_result"
    }
   ],
   "source": [
    "data[29,19]"
   ]
  },
  {
   "cell_type": "code",
   "execution_count": 59,
   "metadata": {},
   "outputs": [],
   "source": [
    "list=[1,23,4,509]"
   ]
  },
  {
   "cell_type": "code",
   "execution_count": null,
   "metadata": {},
   "outputs": [],
   "source": []
  },
  {
   "cell_type": "code",
   "execution_count": 63,
   "metadata": {},
   "outputs": [
    {
     "data": {
      "text/plain": [
       "array([[0., 0., 1., 3., 1., 2., 4., 7., 8., 3.],\n",
       "       [0., 1., 2., 1., 2., 1., 3., 2., 2., 6.],\n",
       "       [0., 1., 1., 3., 3., 2., 6., 2., 5., 9.],\n",
       "       [0., 0., 2., 0., 4., 2., 2., 1., 6., 7.]])"
      ]
     },
     "execution_count": 63,
     "metadata": {},
     "output_type": "execute_result"
    }
   ],
   "source": [
    "data[:4, :10] #subet of first four rows and 10 columns"
   ]
  },
  {
   "cell_type": "code",
   "execution_count": 64,
   "metadata": {},
   "outputs": [
    {
     "data": {
      "text/plain": [
       "6.14875"
      ]
     },
     "execution_count": 64,
     "metadata": {},
     "output_type": "execute_result"
    }
   ],
   "source": [
    "np.mean(data)"
   ]
  },
  {
   "cell_type": "code",
   "execution_count": 67,
   "metadata": {},
   "outputs": [
    {
     "data": {
      "text/plain": [
       "20.0"
      ]
     },
     "execution_count": 67,
     "metadata": {},
     "output_type": "execute_result"
    }
   ],
   "source": [
    "np.max(data)\n",
    "\n"
   ]
  },
  {
   "cell_type": "code",
   "execution_count": 68,
   "metadata": {},
   "outputs": [
    {
     "data": {
      "text/plain": [
       "0.0"
      ]
     },
     "execution_count": 68,
     "metadata": {},
     "output_type": "execute_result"
    }
   ],
   "source": [
    "np.min(data)"
   ]
  },
  {
   "cell_type": "code",
   "execution_count": 69,
   "metadata": {},
   "outputs": [
    {
     "data": {
      "text/plain": [
       "4.613833197118566"
      ]
     },
     "execution_count": 69,
     "metadata": {},
     "output_type": "execute_result"
    }
   ],
   "source": [
    "np.std(data)"
   ]
  },
  {
   "cell_type": "code",
   "execution_count": 76,
   "metadata": {},
   "outputs": [
    {
     "data": {
      "text/plain": [
       "18.0"
      ]
     },
     "execution_count": 76,
     "metadata": {},
     "output_type": "execute_result"
    }
   ],
   "source": [
    "# each row is different patient\n",
    "# Each column is different observation\n",
    "\n",
    "np.max(data[1])\n"
   ]
  },
  {
   "cell_type": "code",
   "execution_count": 77,
   "metadata": {},
   "outputs": [
    {
     "data": {
      "text/plain": [
       "array([ 0.,  1.,  2.,  3.,  4.,  5.,  6.,  7.,  8.,  9., 10., 11., 12.,\n",
       "       13., 14., 15., 16., 17., 18., 19., 20., 19., 18., 17., 16., 15.,\n",
       "       14., 13., 12., 11., 10.,  9.,  8.,  7.,  6.,  5.,  4.,  3.,  2.,\n",
       "        1.])"
      ]
     },
     "execution_count": 77,
     "metadata": {},
     "output_type": "execute_result"
    }
   ],
   "source": [
    "np.max(data, axis=0) # max for each column"
   ]
  },
  {
   "cell_type": "code",
   "execution_count": null,
   "metadata": {},
   "outputs": [],
   "source": []
  },
  {
   "cell_type": "code",
   "execution_count": 78,
   "metadata": {},
   "outputs": [
    {
     "data": {
      "text/plain": [
       "array([18., 18., 19., 17., 17., 18., 17., 20., 17., 18., 18., 18., 17.,\n",
       "       16., 17., 18., 19., 19., 17., 19., 19., 16., 17., 15., 17., 17.,\n",
       "       18., 17., 20., 17., 16., 19., 15., 15., 19., 17., 16., 17., 19.,\n",
       "       16., 18., 19., 16., 19., 18., 16., 19., 15., 16., 18., 14., 20.,\n",
       "       17., 15., 17., 16., 17., 19., 18., 18.])"
      ]
     },
     "execution_count": 78,
     "metadata": {},
     "output_type": "execute_result"
    }
   ],
   "source": [
    "np.max(data, axis=1) # max for each row"
   ]
  },
  {
   "cell_type": "code",
   "execution_count": 79,
   "metadata": {},
   "outputs": [
    {
     "data": {
      "text/plain": [
       "array([ 0.        ,  0.45      ,  1.11666667,  1.75      ,  2.43333333,\n",
       "        3.15      ,  3.8       ,  3.88333333,  5.23333333,  5.51666667,\n",
       "        5.95      ,  5.9       ,  8.35      ,  7.73333333,  8.36666667,\n",
       "        9.5       ,  9.58333333, 10.63333333, 11.56666667, 12.35      ,\n",
       "       13.25      , 11.96666667, 11.03333333, 10.16666667, 10.        ,\n",
       "        8.66666667,  9.15      ,  7.25      ,  7.33333333,  6.58333333,\n",
       "        6.06666667,  5.95      ,  5.11666667,  3.6       ,  3.3       ,\n",
       "        3.56666667,  2.48333333,  1.5       ,  1.13333333,  0.56666667])"
      ]
     },
     "execution_count": 79,
     "metadata": {},
     "output_type": "execute_result"
    }
   ],
   "source": [
    "np.mean(data, axis =0)"
   ]
  },
  {
   "cell_type": "code",
   "execution_count": 80,
   "metadata": {},
   "outputs": [
    {
     "data": {
      "text/plain": [
       "array([5.45 , 5.425, 6.1  , 5.9  , 5.55 , 6.225, 5.975, 6.65 , 6.625,\n",
       "       6.525, 6.775, 5.8  , 6.225, 5.75 , 5.225, 6.3  , 6.55 , 5.7  ,\n",
       "       5.85 , 6.55 , 5.775, 5.825, 6.175, 6.1  , 5.8  , 6.425, 6.05 ,\n",
       "       6.025, 6.175, 6.55 , 6.175, 6.35 , 6.725, 6.125, 7.075, 5.725,\n",
       "       5.925, 6.15 , 6.075, 5.75 , 5.975, 5.725, 6.3  , 5.9  , 6.75 ,\n",
       "       5.925, 7.225, 6.15 , 5.95 , 6.275, 5.7  , 6.1  , 6.825, 5.975,\n",
       "       6.725, 5.7  , 6.25 , 6.4  , 7.05 , 5.9  ])"
      ]
     },
     "execution_count": 80,
     "metadata": {},
     "output_type": "execute_result"
    }
   ],
   "source": [
    "np.mean(data, axis =1)"
   ]
  },
  {
   "cell_type": "code",
   "execution_count": 82,
   "metadata": {},
   "outputs": [],
   "source": [
    "import matplotlib.pyplot"
   ]
  },
  {
   "cell_type": "code",
   "execution_count": 83,
   "metadata": {},
   "outputs": [],
   "source": [
    "%matplotlib inline"
   ]
  },
  {
   "cell_type": "code",
   "execution_count": 84,
   "metadata": {},
   "outputs": [
    {
     "data": {
      "image/png": "[encoded data removed]",
      "text/plain": [
       "<Figure size 432x288 with 1 Axes>"
      ]
     },
     "metadata": {},
     "output_type": "display_data"
    }
   ],
   "source": [
    "image = matplotlib.pyplot.imshow(data)"
   ]
  },
  {
   "cell_type": "code",
   "execution_count": 85,
   "metadata": {},
   "outputs": [],
   "source": [
    "a = np.arange(4)"
   ]
  },
  {
   "cell_type": "code",
   "execution_count": 86,
   "metadata": {},
   "outputs": [
    {
     "data": {
      "text/plain": [
       "array([0, 1, 4, 9])"
      ]
     },
     "execution_count": 86,
     "metadata": {},
     "output_type": "execute_result"
    }
   ],
   "source": [
    "a * a"
   ]
  },
  {
   "cell_type": "code",
   "execution_count": 87,
   "metadata": {},
   "outputs": [],
   "source": [
    "a = a.reshape(2,2)"
   ]
  },
  {
   "cell_type": "code",
   "execution_count": 88,
   "metadata": {},
   "outputs": [
    {
     "data": {
      "text/plain": [
       "array([[0, 1],\n",
       "       [4, 9]])"
      ]
     },
     "execution_count": 88,
     "metadata": {},
     "output_type": "execute_result"
    }
   ],
   "source": [
    "a*a"
   ]
  },
  {
   "cell_type": "code",
   "execution_count": 95,
   "metadata": {},
   "outputs": [],
   "source": [
    "e = np.random.rand(9)"
   ]
  },
  {
   "cell_type": "code",
   "execution_count": 96,
   "metadata": {},
   "outputs": [],
   "source": [
    "f = e.reshape(3,3)"
   ]
  },
  {
   "cell_type": "code",
   "execution_count": 97,
   "metadata": {},
   "outputs": [
    {
     "data": {
      "text/plain": [
       "array([[0.35653661, 0.90663945, 0.12857591],\n",
       "       [0.49426551, 0.7653511 , 0.5567071 ],\n",
       "       [0.69907139, 0.74210836, 0.75144185]])"
      ]
     },
     "execution_count": 97,
     "metadata": {},
     "output_type": "execute_result"
    }
   ],
   "source": [
    "f"
   ]
  },
  {
   "cell_type": "code",
   "execution_count": 98,
   "metadata": {},
   "outputs": [
    {
     "name": "stdout",
     "output_type": "stream",
     "text": [
      "Help on function sort in module numpy.core.fromnumeric:\n",
      "\n",
      "sort(a, axis=-1, kind='quicksort', order=None)\n",
      "    Return a sorted copy of an array.\n",
      "    \n",
      "    Parameters\n",
      "    ----------\n",
      "    a : array_like\n",
      "        Array to be sorted.\n",
      "    axis : int or None, optional\n",
      "        Axis along which to sort. If None, the array is flattened before\n",
      "        sorting. The default is -1, which sorts along the last axis.\n",
      "    kind : {'quicksort', 'mergesort', 'heapsort'}, optional\n",
      "        Sorting algorithm. Default is 'quicksort'.\n",
      "    order : str or list of str, optional\n",
      "        When `a` is an array with fields defined, this argument specifies\n",
      "        which fields to compare first, second, etc.  A single field can\n",
      "        be specified as a string, and not all fields need be specified,\n",
      "        but unspecified fields will still be used, in the order in which\n",
      "        they come up in the dtype, to break ties.\n",
      "    \n",
      "    Returns\n",
      "    -------\n",
      "    sorted_array : ndarray\n",
      "        Array of the same type and shape as `a`.\n",
      "    \n",
      "    See Also\n",
      "    --------\n",
      "    ndarray.sort : Method to sort an array in-place.\n",
      "    argsort : Indirect sort.\n",
      "    lexsort : Indirect stable sort on multiple keys.\n",
      "    searchsorted : Find elements in a sorted array.\n",
      "    partition : Partial sort.\n",
      "    \n",
      "    Notes\n",
      "    -----\n",
      "    The various sorting algorithms are characterized by their average speed,\n",
      "    worst case performance, work space size, and whether they are stable. A\n",
      "    stable sort keeps items with the same key in the same relative\n",
      "    order. The three available algorithms have the following\n",
      "    properties:\n",
      "    \n",
      "    =========== ======= ============= ============ =======\n",
      "       kind      speed   worst case    work space  stable\n",
      "    =========== ======= ============= ============ =======\n",
      "    'quicksort'    1     O(n^2)            0          no\n",
      "    'mergesort'    2     O(n*log(n))      ~n/2        yes\n",
      "    'heapsort'     3     O(n*log(n))       0          no\n",
      "    =========== ======= ============= ============ =======\n",
      "    \n",
      "    All the sort algorithms make temporary copies of the data when\n",
      "    sorting along any but the last axis.  Consequently, sorting along\n",
      "    the last axis is faster and uses less space than sorting along\n",
      "    any other axis.\n",
      "    \n",
      "    The sort order for complex numbers is lexicographic. If both the real\n",
      "    and imaginary parts are non-nan then the order is determined by the\n",
      "    real parts except when they are equal, in which case the order is\n",
      "    determined by the imaginary parts.\n",
      "    \n",
      "    Previous to numpy 1.4.0 sorting real and complex arrays containing nan\n",
      "    values led to undefined behaviour. In numpy versions >= 1.4.0 nan\n",
      "    values are sorted to the end. The extended sort order is:\n",
      "    \n",
      "      * Real: [R, nan]\n",
      "      * Complex: [R + Rj, R + nanj, nan + Rj, nan + nanj]\n",
      "    \n",
      "    where R is a non-nan real value. Complex values with the same nan\n",
      "    placements are sorted according to the non-nan part if it exists.\n",
      "    Non-nan values are sorted as before.\n",
      "    \n",
      "    .. versionadded:: 1.12.0\n",
      "    \n",
      "    quicksort has been changed to an introsort which will switch\n",
      "    heapsort when it does not make enough progress. This makes its\n",
      "    worst case O(n*log(n)).\n",
      "    \n",
      "    Examples\n",
      "    --------\n",
      "    >>> a = np.array([[1,4],[3,1]])\n",
      "    >>> np.sort(a)                # sort along the last axis\n",
      "    array([[1, 4],\n",
      "           [1, 3]])\n",
      "    >>> np.sort(a, axis=None)     # sort the flattened array\n",
      "    array([1, 1, 3, 4])\n",
      "    >>> np.sort(a, axis=0)        # sort along the first axis\n",
      "    array([[1, 1],\n",
      "           [3, 4]])\n",
      "    \n",
      "    Use the `order` keyword to specify a field to use when sorting a\n",
      "    structured array:\n",
      "    \n",
      "    >>> dtype = [('name', 'S10'), ('height', float), ('age', int)]\n",
      "    >>> values = [('Arthur', 1.8, 41), ('Lancelot', 1.9, 38),\n",
      "    ...           ('Galahad', 1.7, 38)]\n",
      "    >>> a = np.array(values, dtype=dtype)       # create a structured array\n",
      "    >>> np.sort(a, order='height')                        # doctest: +SKIP\n",
      "    array([('Galahad', 1.7, 38), ('Arthur', 1.8, 41),\n",
      "           ('Lancelot', 1.8999999999999999, 38)],\n",
      "          dtype=[('name', '|S10'), ('height', '<f8'), ('age', '<i4')])\n",
      "    \n",
      "    Sort by age, then height if ages are equal:\n",
      "    \n",
      "    >>> np.sort(a, order=['age', 'height'])               # doctest: +SKIP\n",
      "    array([('Galahad', 1.7, 38), ('Lancelot', 1.8999999999999999, 38),\n",
      "           ('Arthur', 1.8, 41)],\n",
      "          dtype=[('name', '|S10'), ('height', '<f8'), ('age', '<i4')])\n",
      "\n"
     ]
    }
   ],
   "source": [
    "help(np.sort)"
   ]
  },
  {
   "cell_type": "code",
   "execution_count": 100,
   "metadata": {},
   "outputs": [
    {
     "data": {
      "text/plain": [
       "array([[0.12857591, 0.35653661, 0.90663945],\n",
       "       [0.49426551, 0.5567071 , 0.7653511 ],\n",
       "       [0.69907139, 0.74210836, 0.75144185]])"
      ]
     },
     "execution_count": 100,
     "metadata": {},
     "output_type": "execute_result"
    }
   ],
   "source": [
    "np.sort(f, axis=1)"
   ]
  },
  {
   "cell_type": "code",
   "execution_count": 101,
   "metadata": {},
   "outputs": [],
   "source": [
    "b = np.random.rand(9)"
   ]
  },
  {
   "cell_type": "code",
   "execution_count": 102,
   "metadata": {},
   "outputs": [],
   "source": [
    "b = b.reshape(3,3)"
   ]
  },
  {
   "cell_type": "code",
   "execution_count": 107,
   "metadata": {},
   "outputs": [
    {
     "data": {
      "text/plain": [
       "array([[0.28846658, 0.77807856, 0.78170562],\n",
       "       [0.0923564 , 0.37383074, 0.84119427],\n",
       "       [0.13631395, 0.66871422, 0.83231463]])"
      ]
     },
     "execution_count": 107,
     "metadata": {},
     "output_type": "execute_result"
    }
   ],
   "source": [
    "b "
   ]
  },
  {
   "cell_type": "code",
   "execution_count": 111,
   "metadata": {},
   "outputs": [],
   "source": [
    "c = np.sort(b, 0)"
   ]
  },
  {
   "cell_type": "code",
   "execution_count": 112,
   "metadata": {},
   "outputs": [
    {
     "data": {
      "text/plain": [
       "array([[0.0923564 , 0.37383074, 0.78170562],\n",
       "       [0.13631395, 0.66871422, 0.83231463],\n",
       "       [0.28846658, 0.77807856, 0.84119427]])"
      ]
     },
     "execution_count": 112,
     "metadata": {},
     "output_type": "execute_result"
    }
   ],
   "source": [
    "c"
   ]
  },
  {
   "cell_type": "code",
   "execution_count": 114,
   "metadata": {},
   "outputs": [
    {
     "data": {
      "text/plain": [
       "array([[0.48127113, 0.00478924, 0.43523713],\n",
       "       [0.47294901, 0.46141181, 0.98804838],\n",
       "       [0.68671335, 0.24624879, 0.35598872]])"
      ]
     },
     "execution_count": 114,
     "metadata": {},
     "output_type": "execute_result"
    }
   ],
   "source": [
    "np.random.rand(3,3)"
   ]
  },
  {
   "cell_type": "code",
   "execution_count": null,
   "metadata": {},
   "outputs": [],
   "source": [
    "# Generate a 10 x 3 array of random numbers (using np.random.rand). \n",
    "# From each row, find the column index of the element closest to 0.75. Make use of np.abs and np.argmin. \n",
    "# The result should be a one-dimensional array of integers from 0 to 2"
   ]
  },
  {
   "cell_type": "code",
   "execution_count": 115,
   "metadata": {},
   "outputs": [],
   "source": [
    "g = np.random.rand(10,3)"
   ]
  },
  {
   "cell_type": "code",
   "execution_count": 116,
   "metadata": {
    "scrolled": true
   },
   "outputs": [
    {
     "data": {
      "text/plain": [
       "array([[2.45692505e-01, 2.44440009e-01, 3.58606639e-01],\n",
       "       [6.06410440e-01, 7.06082689e-01, 7.49794360e-01],\n",
       "       [2.13990978e-01, 6.79923780e-02, 2.08920957e-01],\n",
       "       [8.79565090e-01, 7.02031589e-01, 8.80718322e-01],\n",
       "       [6.90267214e-01, 9.08611855e-01, 6.64534743e-05],\n",
       "       [7.14186971e-01, 5.15730518e-01, 9.56540962e-01],\n",
       "       [8.88285202e-01, 7.17433898e-01, 5.76611346e-01],\n",
       "       [2.11161128e-01, 1.32234435e-02, 3.79904760e-01],\n",
       "       [7.78934987e-01, 2.62178446e-01, 2.40009480e-01],\n",
       "       [1.18534859e-01, 5.13058667e-01, 1.00653369e-01]])"
      ]
     },
     "execution_count": 116,
     "metadata": {},
     "output_type": "execute_result"
    }
   ],
   "source": [
    "g"
   ]
  },
  {
   "cell_type": "code",
   "execution_count": 118,
   "metadata": {},
   "outputs": [],
   "source": [
    "h = g - 0.75\n"
   ]
  },
  {
   "cell_type": "code",
   "execution_count": 119,
   "metadata": {},
   "outputs": [
    {
     "data": {
      "text/plain": [
       "array([[0.0923564 , 0.37383074, 0.78170562],\n",
       "       [0.13631395, 0.66871422, 0.83231463],\n",
       "       [0.28846658, 0.77807856, 0.84119427]])"
      ]
     },
     "execution_count": 119,
     "metadata": {},
     "output_type": "execute_result"
    }
   ],
   "source": [
    "b"
   ]
  },
  {
   "cell_type": "code",
   "execution_count": 120,
   "metadata": {},
   "outputs": [],
   "source": [
    "i = np.abs(b)"
   ]
  },
  {
   "cell_type": "code",
   "execution_count": null,
   "metadata": {},
   "outputs": [],
   "source": []
  },
  {
   "cell_type": "code",
   "execution_count": 121,
   "metadata": {},
   "outputs": [
    {
     "data": {
      "text/plain": [
       "array([[0.0923564 , 0.37383074, 0.78170562],\n",
       "       [0.13631395, 0.66871422, 0.83231463],\n",
       "       [0.28846658, 0.77807856, 0.84119427]])"
      ]
     },
     "execution_count": 121,
     "metadata": {},
     "output_type": "execute_result"
    }
   ],
   "source": [
    "i"
   ]
  },
  {
   "cell_type": "code",
   "execution_count": 124,
   "metadata": {},
   "outputs": [],
   "source": [
    "j = np.argmin(i, 1)"
   ]
  },
  {
   "cell_type": "code",
   "execution_count": 125,
   "metadata": {},
   "outputs": [
    {
     "data": {
      "text/plain": [
       "array([0, 0, 0], dtype=int64)"
      ]
     },
     "execution_count": 125,
     "metadata": {},
     "output_type": "execute_result"
    }
   ],
   "source": [
    "j"
   ]
  },
  {
   "cell_type": "code",
   "execution_count": 126,
   "metadata": {},
   "outputs": [],
   "source": [
    "a = np.arange(4)"
   ]
  },
  {
   "cell_type": "code",
   "execution_count": 127,
   "metadata": {},
   "outputs": [],
   "source": [
    "a = a * 10"
   ]
  },
  {
   "cell_type": "code",
   "execution_count": 128,
   "metadata": {},
   "outputs": [
    {
     "data": {
      "text/plain": [
       "array([ 0, 10, 20, 30])"
      ]
     },
     "execution_count": 128,
     "metadata": {},
     "output_type": "execute_result"
    }
   ],
   "source": [
    "a"
   ]
  },
  {
   "cell_type": "code",
   "execution_count": 129,
   "metadata": {},
   "outputs": [
    {
     "data": {
      "text/plain": [
       "(4,)"
      ]
     },
     "execution_count": 129,
     "metadata": {},
     "output_type": "execute_result"
    }
   ],
   "source": [
    "a.shape"
   ]
  },
  {
   "cell_type": "code",
   "execution_count": 130,
   "metadata": {},
   "outputs": [],
   "source": [
    "# \n",
    "a_column = a[:, np.newaxis]"
   ]
  },
  {
   "cell_type": "code",
   "execution_count": 131,
   "metadata": {},
   "outputs": [
    {
     "data": {
      "text/plain": [
       "(4, 1)"
      ]
     },
     "execution_count": 131,
     "metadata": {},
     "output_type": "execute_result"
    }
   ],
   "source": [
    "a_column.shape"
   ]
  },
  {
   "cell_type": "code",
   "execution_count": 133,
   "metadata": {},
   "outputs": [
    {
     "data": {
      "text/plain": [
       "array([[ 0],\n",
       "       [10],\n",
       "       [20],\n",
       "       [30]])"
      ]
     },
     "execution_count": 133,
     "metadata": {},
     "output_type": "execute_result"
    }
   ],
   "source": [
    "a_column #its a 4 x 1 matrux now"
   ]
  },
  {
   "cell_type": "code",
   "execution_count": 134,
   "metadata": {},
   "outputs": [],
   "source": [
    "b = np.arange(3)"
   ]
  },
  {
   "cell_type": "code",
   "execution_count": 135,
   "metadata": {},
   "outputs": [
    {
     "data": {
      "text/plain": [
       "array([0, 1, 2])"
      ]
     },
     "execution_count": 135,
     "metadata": {},
     "output_type": "execute_result"
    }
   ],
   "source": [
    "b"
   ]
  },
  {
   "cell_type": "code",
   "execution_count": 137,
   "metadata": {},
   "outputs": [
    {
     "name": "stdout",
     "output_type": "stream",
     "text": [
      "[[ 0]\n",
      " [10]\n",
      " [20]\n",
      " [30]]\n",
      "[0 1 2]\n"
     ]
    }
   ],
   "source": [
    "print(a_column)\n",
    "print(b)"
   ]
  },
  {
   "cell_type": "code",
   "execution_count": 138,
   "metadata": {},
   "outputs": [
    {
     "data": {
      "text/plain": [
       "array([[ 0,  1,  2],\n",
       "       [10, 11, 12],\n",
       "       [20, 21, 22],\n",
       "       [30, 31, 32]])"
      ]
     },
     "execution_count": 138,
     "metadata": {},
     "output_type": "execute_result"
    }
   ],
   "source": [
    "a_column + b"
   ]
  },
  {
   "cell_type": "code",
   "execution_count": 140,
   "metadata": {},
   "outputs": [],
   "source": [
    "a2 = np.tile(a,(3,1))"
   ]
  },
  {
   "cell_type": "code",
   "execution_count": 141,
   "metadata": {},
   "outputs": [
    {
     "data": {
      "text/plain": [
       "array([[ 0, 10, 20, 30],\n",
       "       [ 0, 10, 20, 30],\n",
       "       [ 0, 10, 20, 30]])"
      ]
     },
     "execution_count": 141,
     "metadata": {},
     "output_type": "execute_result"
    }
   ],
   "source": [
    "a2"
   ]
  },
  {
   "cell_type": "code",
   "execution_count": 143,
   "metadata": {},
   "outputs": [],
   "source": [
    "a2 = a2.T"
   ]
  },
  {
   "cell_type": "code",
   "execution_count": 144,
   "metadata": {},
   "outputs": [
    {
     "data": {
      "text/plain": [
       "array([[ 0,  0,  0],\n",
       "       [10, 10, 10],\n",
       "       [20, 20, 20],\n",
       "       [30, 30, 30]])"
      ]
     },
     "execution_count": 144,
     "metadata": {},
     "output_type": "execute_result"
    }
   ],
   "source": [
    "a2"
   ]
  },
  {
   "cell_type": "code",
   "execution_count": 149,
   "metadata": {},
   "outputs": [],
   "source": [
    "b2 = np.tile(b, (4,1))"
   ]
  },
  {
   "cell_type": "code",
   "execution_count": 150,
   "metadata": {},
   "outputs": [
    {
     "data": {
      "text/plain": [
       "array([[0, 1, 2],\n",
       "       [0, 1, 2],\n",
       "       [0, 1, 2],\n",
       "       [0, 1, 2]])"
      ]
     },
     "execution_count": 150,
     "metadata": {},
     "output_type": "execute_result"
    }
   ],
   "source": [
    "b2"
   ]
  },
  {
   "cell_type": "code",
   "execution_count": 151,
   "metadata": {},
   "outputs": [
    {
     "data": {
      "text/plain": [
       "array([[ 0,  1,  2],\n",
       "       [10, 11, 12],\n",
       "       [20, 21, 22],\n",
       "       [30, 31, 32]])"
      ]
     },
     "execution_count": 151,
     "metadata": {},
     "output_type": "execute_result"
    }
   ],
   "source": [
    "a2 + b2"
   ]
  },
  {
   "cell_type": "code",
   "execution_count": 152,
   "metadata": {},
   "outputs": [],
   "source": [
    "dat = np.random.rand(10, 100)"
   ]
  },
  {
   "cell_type": "code",
   "execution_count": 153,
   "metadata": {},
   "outputs": [
    {
     "data": {
      "text/plain": [
       "array([[0.57300598, 0.2176004 , 0.61355356, 0.90579872, 0.07566504,\n",
       "        0.91046115, 0.17849476, 0.2269022 , 0.13001897, 0.47747405,\n",
       "        0.37873465, 0.5326573 , 0.86668178, 0.91760455, 0.39360992,\n",
       "        0.13775564, 0.14491401, 0.13261282, 0.0231795 , 0.64939597,\n",
       "        0.31230171, 0.65193333, 0.35425775, 0.61299672, 0.81988741,\n",
       "        0.48318917, 0.63182136, 0.39610419, 0.29108233, 0.05420221,\n",
       "        0.35481526, 0.70228244, 0.74602886, 0.56781343, 0.84782309,\n",
       "        0.98487717, 0.08422385, 0.66905943, 0.97295698, 0.45292475,\n",
       "        0.46484605, 0.11037858, 0.7329719 , 0.34389241, 0.93384979,\n",
       "        0.33513684, 0.77113547, 0.04554386, 0.13768776, 0.52792054,\n",
       "        0.86876017, 0.74274494, 0.51900099, 0.52218477, 0.60835339,\n",
       "        0.98433054, 0.4523451 , 0.10803337, 0.01856806, 0.62058567,\n",
       "        0.11116567, 0.24814872, 0.43859401, 0.75104226, 0.24950454,\n",
       "        0.41665406, 0.79262898, 0.90041637, 0.36908919, 0.3251851 ,\n",
       "        0.1772667 , 0.840062  , 0.84570566, 0.32182758, 0.14221264,\n",
       "        0.77719431, 0.84936909, 0.97453116, 0.97284408, 0.70465794,\n",
       "        0.22552778, 0.59009884, 0.38788136, 0.18500914, 0.18973047,\n",
       "        0.55556557, 0.99103359, 0.53836098, 0.15144758, 0.91781254,\n",
       "        0.20082848, 0.23493337, 0.54979472, 0.5890855 , 0.06735937,\n",
       "        0.93041474, 0.69363839, 0.0446944 , 0.85332135, 0.53144011],\n",
       "       [0.88070232, 0.1027366 , 0.43904411, 0.1331259 , 0.56566743,\n",
       "        0.70740305, 0.38783149, 0.89761536, 0.69339085, 0.93880035,\n",
       "        0.72319458, 0.33287337, 0.47523752, 0.72192028, 0.65200191,\n",
       "        0.96869638, 0.59136209, 0.10157857, 0.52888849, 0.04136126,\n",
       "        0.34917252, 0.52376023, 0.10197839, 0.94567567, 0.05947092,\n",
       "        0.27036668, 0.8146709 , 0.83102416, 0.47383001, 0.09681357,\n",
       "        0.35953673, 0.93336774, 0.31418279, 0.44829237, 0.99012554,\n",
       "        0.42555543, 0.47606045, 0.39380388, 0.09508342, 0.50080398,\n",
       "        0.67120634, 0.77708881, 0.24289011, 0.41103794, 0.6321437 ,\n",
       "        0.28312183, 0.9753366 , 0.17467856, 0.01343614, 0.4957319 ,\n",
       "        0.8731879 , 0.56396534, 0.50511366, 0.66585758, 0.05069232,\n",
       "        0.86019616, 0.33559224, 0.65664   , 0.35863991, 0.07005906,\n",
       "        0.66635479, 0.22442229, 0.40911672, 0.56883988, 0.49333651,\n",
       "        0.51931369, 0.13607628, 0.0427095 , 0.59969924, 0.96900993,\n",
       "        0.4822994 , 0.2925499 , 0.55302656, 0.22994117, 0.58783313,\n",
       "        0.55658522, 0.3123141 , 0.9395657 , 0.40990647, 0.68329891,\n",
       "        0.03912588, 0.66681196, 0.76595147, 0.36238741, 0.84563765,\n",
       "        0.43147471, 0.00597847, 0.60157943, 0.89869584, 0.05634154,\n",
       "        0.22747416, 0.99838331, 0.52314071, 0.50497272, 0.10175343,\n",
       "        0.07838724, 0.6637567 , 0.64924098, 0.19103053, 0.43479086],\n",
       "       [0.56960486, 0.18866399, 0.50967044, 0.72950462, 0.10252947,\n",
       "        0.96568025, 0.07043262, 0.27372447, 0.80532727, 0.42826616,\n",
       "        0.79404861, 0.23768737, 0.80925678, 0.15472114, 0.0660642 ,\n",
       "        0.32424806, 0.76222421, 0.65189168, 0.06614431, 0.8027636 ,\n",
       "        0.3102993 , 0.52061198, 0.20226215, 0.96391884, 0.8258749 ,\n",
       "        0.95330306, 0.05832773, 0.50700831, 0.42977836, 0.48205671,\n",
       "        0.61432453, 0.8528749 , 0.42938917, 0.88019336, 0.35855722,\n",
       "        0.43699849, 0.01315077, 0.46965597, 0.91216067, 0.56129814,\n",
       "        0.28721445, 0.41802099, 0.27136339, 0.599434  , 0.80519964,\n",
       "        0.22037395, 0.66835161, 0.4405472 , 0.5961989 , 0.57209196,\n",
       "        0.038561  , 0.99543409, 0.71356235, 0.74764844, 0.95701489,\n",
       "        0.24358519, 0.39408237, 0.4785239 , 0.71684285, 0.69636518,\n",
       "        0.6649259 , 0.76350566, 0.00403559, 0.14721438, 0.47455376,\n",
       "        0.74198753, 0.17705297, 0.40151921, 0.41527851, 0.23558595,\n",
       "        0.00208278, 0.51790539, 0.48324836, 0.52728469, 0.05636323,\n",
       "        0.2509853 , 0.60834142, 0.22320181, 0.74418802, 0.12683991,\n",
       "        0.23777684, 0.81112308, 0.09354278, 0.73864085, 0.78287755,\n",
       "        0.94396467, 0.12614515, 0.43012986, 0.09158377, 0.42561383,\n",
       "        0.8434495 , 0.46390891, 0.7310228 , 0.74444288, 0.353257  ,\n",
       "        0.07888851, 0.79605964, 0.17383237, 0.85583632, 0.18070585],\n",
       "       [0.69264487, 0.69096554, 0.79553508, 0.20476552, 0.85649237,\n",
       "        0.244337  , 0.1746577 , 0.24333514, 0.98383108, 0.60783149,\n",
       "        0.28544526, 0.23321055, 0.27565051, 0.56340352, 0.53082256,\n",
       "        0.71035199, 0.67297757, 0.38284249, 0.22481556, 0.02486099,\n",
       "        0.04436528, 0.06596665, 0.20582148, 0.22805418, 0.03083788,\n",
       "        0.74932612, 0.52339801, 0.67484057, 0.43480075, 0.11861729,\n",
       "        0.23996842, 0.36743176, 0.28890533, 0.18410905, 0.23987548,\n",
       "        0.03561746, 0.68183279, 0.78355922, 0.42215585, 0.39376425,\n",
       "        0.51980382, 0.19206584, 0.93857295, 0.56366398, 0.2894686 ,\n",
       "        0.55167979, 0.22677855, 0.21324102, 0.31141214, 0.54114935,\n",
       "        0.28116959, 0.48732154, 0.09755079, 0.29599837, 0.91827594,\n",
       "        0.5972069 , 0.30403152, 0.06727398, 0.24017708, 0.54814229,\n",
       "        0.23415312, 0.91222946, 0.24838925, 0.7127153 , 0.33780221,\n",
       "        0.10243058, 0.04345293, 0.42353354, 0.44433046, 0.77808896,\n",
       "        0.26896691, 0.48339601, 0.03366007, 0.848665  , 0.42949009,\n",
       "        0.33188733, 0.11062237, 0.16176936, 0.02184295, 0.02605778,\n",
       "        0.59923943, 0.58007747, 0.83921117, 0.16761823, 0.38496788,\n",
       "        0.00451507, 0.57295835, 0.90948694, 0.42938346, 0.69784079,\n",
       "        0.38875914, 0.11623201, 0.77854172, 0.77216185, 0.5906718 ,\n",
       "        0.93034876, 0.76666043, 0.89376541, 0.29232296, 0.62605967],\n",
       "       [0.46373557, 0.89757797, 0.68578204, 0.59737081, 0.85939395,\n",
       "        0.3865888 , 0.74472989, 0.12036743, 0.93420085, 0.85141405,\n",
       "        0.0297493 , 0.92271127, 0.16908625, 0.10775642, 0.50414455,\n",
       "        0.91403488, 0.46693742, 0.10337729, 0.84548484, 0.5894592 ,\n",
       "        0.86025398, 0.99397549, 0.48514297, 0.80189087, 0.34507133,\n",
       "        0.50038437, 0.60120617, 0.11559648, 0.21376573, 0.53862149,\n",
       "        0.27995812, 0.51360935, 0.06901499, 0.54457963, 0.56373852,\n",
       "        0.92919916, 0.14815443, 0.65244286, 0.03109201, 0.18333064,\n",
       "        0.19452186, 0.3591775 , 0.32571099, 0.12917786, 0.14546084,\n",
       "        0.26183021, 0.43419151, 0.73026364, 0.23287268, 0.95448567,\n",
       "        0.68371838, 0.98303923, 0.48733909, 0.74086088, 0.51555494,\n",
       "        0.77717309, 0.01791448, 0.29427498, 0.74307911, 0.49858976,\n",
       "        0.32228283, 0.93804783, 0.66022946, 0.52135912, 0.04179224,\n",
       "        0.20802375, 0.67421749, 0.03366563, 0.27136332, 0.24625428,\n",
       "        0.47095968, 0.93364181, 0.05178491, 0.31684521, 0.52160959,\n",
       "        0.57360574, 0.78144123, 0.8535329 , 0.06572692, 0.93687622,\n",
       "        0.14525131, 0.86908638, 0.06752336, 0.55466926, 0.43580596,\n",
       "        0.00213963, 0.47725132, 0.99966871, 0.47869338, 0.86950252,\n",
       "        0.15665039, 0.57142592, 0.2195502 , 0.2121953 , 0.04045469,\n",
       "        0.0013528 , 0.46878357, 0.52863373, 0.55565846, 0.86753013],\n",
       "       [0.70305411, 0.94268024, 0.69098123, 0.31938905, 0.00886927,\n",
       "        0.23732039, 0.22753028, 0.11136838, 0.17516938, 0.8992694 ,\n",
       "        0.35049653, 0.56294014, 0.46849106, 0.9179826 , 0.9675042 ,\n",
       "        0.18967723, 0.77527872, 0.22279729, 0.19635059, 0.93688281,\n",
       "        0.30297033, 0.84360696, 0.42963817, 0.65185846, 0.645314  ,\n",
       "        0.53148529, 0.40459922, 0.52265898, 0.43666555, 0.16042109,\n",
       "        0.26215943, 0.20278652, 0.57110348, 0.58854182, 0.86572212,\n",
       "        0.92004494, 0.50411396, 0.61184673, 0.6051056 , 0.29305088,\n",
       "        0.63984641, 0.4281921 , 0.56700953, 0.23353413, 0.74160838,\n",
       "        0.20622985, 0.46887125, 0.92936952, 0.18920019, 0.9113822 ,\n",
       "        0.04046831, 0.87408045, 0.94293859, 0.98191921, 0.31255831,\n",
       "        0.72961496, 0.84497666, 0.01177117, 0.15520576, 0.10358586,\n",
       "        0.32171226, 0.23070865, 0.22622471, 0.72550908, 0.17802216,\n",
       "        0.10815322, 0.38006351, 0.55792086, 0.11444072, 0.44713584,\n",
       "        0.96913562, 0.30544027, 0.2040561 , 0.80660163, 0.82300291,\n",
       "        0.32098072, 0.71282897, 0.42239275, 0.19327558, 0.3282993 ,\n",
       "        0.36869676, 0.89028725, 0.82779053, 0.04399464, 0.92262419,\n",
       "        0.83560942, 0.88664234, 0.00483148, 0.19552157, 0.957423  ,\n",
       "        0.5255141 , 0.79675376, 0.11120581, 0.31372234, 0.07970912,\n",
       "        0.19619774, 0.05188496, 0.95178399, 0.87634367, 0.28521575],\n",
       "       [0.17385876, 0.95698598, 0.54338344, 0.78732315, 0.4276975 ,\n",
       "        0.76710681, 0.7103562 , 0.70550575, 0.10685541, 0.1611487 ,\n",
       "        0.54766541, 0.34686271, 0.98405708, 0.32423594, 0.05570838,\n",
       "        0.95344601, 0.11248901, 0.44012022, 0.13355218, 0.5014012 ,\n",
       "        0.52610258, 0.49372557, 0.87258287, 0.73367204, 0.77236003,\n",
       "        0.40543139, 0.06218346, 0.58921196, 0.35938587, 0.13744969,\n",
       "        0.82143966, 0.07094543, 0.42471347, 0.13987355, 0.35292723,\n",
       "        0.1616371 , 0.45793515, 0.41680698, 0.58396469, 0.53361579,\n",
       "        0.61871691, 0.3854015 , 0.7054947 , 0.91244897, 0.78625502,\n",
       "        0.84049713, 0.97193209, 0.31133965, 0.04017052, 0.66217414,\n",
       "        0.81615431, 0.51374052, 0.08194872, 0.15275248, 0.18723082,\n",
       "        0.88060548, 0.14877982, 0.9386147 , 0.28462179, 0.13576288,\n",
       "        0.58908982, 0.42362874, 0.96325469, 0.94572245, 0.22345614,\n",
       "        0.21296971, 0.57161634, 0.50926451, 0.27396278, 0.72798806,\n",
       "        0.5223632 , 0.88645921, 0.52953757, 0.3915619 , 0.0258617 ,\n",
       "        0.53805515, 0.92245636, 0.67933163, 0.71646382, 0.1644134 ,\n",
       "        0.07555353, 0.25526326, 0.83429935, 0.15564352, 0.66964368,\n",
       "        0.13277318, 0.86091543, 0.30439054, 0.7985816 , 0.35115851,\n",
       "        0.47459144, 0.91791462, 0.76096709, 0.1390559 , 0.96970691,\n",
       "        0.70698004, 0.09387717, 0.0533264 , 0.45747773, 0.10062213],\n",
       "       [0.33649703, 0.18844716, 0.34955418, 0.5414369 , 0.71332223,\n",
       "        0.50935748, 0.861491  , 0.67991649, 0.04186565, 0.48104792,\n",
       "        0.11264625, 0.06865269, 0.2857718 , 0.37817253, 0.21642367,\n",
       "        0.17747452, 0.79968497, 0.22206024, 0.18370052, 0.30425848,\n",
       "        0.66564303, 0.78410753, 0.19677214, 0.70429559, 0.95534382,\n",
       "        0.38956945, 0.90745309, 0.6967342 , 0.03709528, 0.69134292,\n",
       "        0.07505685, 0.86789284, 0.16732943, 0.07760537, 0.12226366,\n",
       "        0.63800499, 0.32129854, 0.57699511, 0.93856856, 0.7909484 ,\n",
       "        0.76107732, 0.27884219, 0.31252332, 0.45839443, 0.31064035,\n",
       "        0.40242861, 0.01542705, 0.55822498, 0.36725064, 0.54686677,\n",
       "        0.98764502, 0.48725998, 0.84592838, 0.02189503, 0.52731597,\n",
       "        0.36783707, 0.75861572, 0.32375886, 0.96362939, 0.72742258,\n",
       "        0.7026364 , 0.11131462, 0.56112099, 0.75041285, 0.39538227,\n",
       "        0.91979566, 0.63541675, 0.49822013, 0.25641645, 0.61235626,\n",
       "        0.60829897, 0.25847321, 0.64140493, 0.02237906, 0.37981797,\n",
       "        0.07429381, 0.06683143, 0.75684869, 0.02440142, 0.71018917,\n",
       "        0.20094372, 0.2873637 , 0.74584312, 0.46712139, 0.97073616,\n",
       "        0.36660261, 0.09837817, 0.41092154, 0.52093764, 0.38830429,\n",
       "        0.6165268 , 0.21155408, 0.54343827, 0.90417119, 0.30502299,\n",
       "        0.63614837, 0.26123679, 0.72699079, 0.25053066, 0.12928629],\n",
       "       [0.68979202, 0.81089677, 0.02954736, 0.3392344 , 0.52841982,\n",
       "        0.63669843, 0.57620262, 0.88671348, 0.69319256, 0.80214191,\n",
       "        0.47071326, 0.5169736 , 0.02855399, 0.27556441, 0.11214313,\n",
       "        0.6329574 , 0.09255888, 0.32766848, 0.48373407, 0.97278424,\n",
       "        0.40951123, 0.28668018, 0.84947933, 0.49383004, 0.42440778,\n",
       "        0.84579739, 0.91482082, 0.08141855, 0.02837846, 0.40600546,\n",
       "        0.60274841, 0.81186726, 0.96525769, 0.97364069, 0.81606838,\n",
       "        0.03794805, 0.47606241, 0.80901231, 0.08636515, 0.36234001,\n",
       "        0.14985229, 0.78527381, 0.67396781, 0.78920118, 0.74488345,\n",
       "        0.74047993, 0.5565085 , 0.27018694, 0.07280212, 0.12827811,\n",
       "        0.23035184, 0.78346007, 0.42299671, 0.87721619, 0.88621196,\n",
       "        0.26288866, 0.83242964, 0.07769758, 0.56541608, 0.18642617,\n",
       "        0.24182671, 0.46981629, 0.75576277, 0.44460419, 0.34582977,\n",
       "        0.61726331, 0.96778791, 0.74435927, 0.05475585, 0.01563928,\n",
       "        0.89445371, 0.76413865, 0.02058525, 0.24747682, 0.83247587,\n",
       "        0.6640079 , 0.716035  , 0.91472802, 0.36872753, 0.49853485,\n",
       "        0.15159056, 0.37304391, 0.16163653, 0.63545429, 0.21389711,\n",
       "        0.55788584, 0.55964321, 0.55830538, 0.16182452, 0.2707431 ,\n",
       "        0.29966924, 0.8644021 , 0.63168372, 0.21861831, 0.78187448,\n",
       "        0.02390961, 0.58647827, 0.0237821 , 0.38403164, 0.54388844],\n",
       "       [0.08350941, 0.56597024, 0.32546156, 0.9501985 , 0.78874011,\n",
       "        0.8523655 , 0.32055792, 0.73003592, 0.19972633, 0.21054633,\n",
       "        0.67999048, 0.16955431, 0.35199698, 0.17357385, 0.63830687,\n",
       "        0.4818593 , 0.88986385, 0.8646761 , 0.38155855, 0.15539373,\n",
       "        0.09862067, 0.57627745, 0.54483834, 0.34006677, 0.90335029,\n",
       "        0.36058955, 0.21198629, 0.05508   , 0.78931062, 0.08391036,\n",
       "        0.18987608, 0.82379581, 0.43204147, 0.45396655, 0.09082586,\n",
       "        0.06254529, 0.63329032, 0.35244097, 0.20670358, 0.39120172,\n",
       "        0.9142899 , 0.66212174, 0.89722912, 0.14327607, 0.2173568 ,\n",
       "        0.87089115, 0.45041841, 0.72573444, 0.20634885, 0.59166899,\n",
       "        0.66959645, 0.75442749, 0.36876162, 0.92814897, 0.8822279 ,\n",
       "        0.75606208, 0.36607916, 0.07132182, 0.11496783, 0.87367423,\n",
       "        0.66085107, 0.9606667 , 0.39715749, 0.77757367, 0.37506996,\n",
       "        0.44262932, 0.26136208, 0.60205098, 0.06465932, 0.47861505,\n",
       "        0.08067687, 0.7907439 , 0.06554273, 0.42010314, 0.16741056,\n",
       "        0.81207047, 0.29033591, 0.80490935, 0.36567288, 0.64237376,\n",
       "        0.28586964, 0.23379224, 0.36827233, 0.08168061, 0.98008508,\n",
       "        0.0344508 , 0.3201688 , 0.53006986, 0.1520638 , 0.90177625,\n",
       "        0.70618335, 0.62151032, 0.01433504, 0.85339176, 0.89313276,\n",
       "        0.1290397 , 0.74221003, 0.66326889, 0.59608604, 0.13649155]])"
      ]
     },
     "execution_count": 153,
     "metadata": {},
     "output_type": "execute_result"
    }
   ],
   "source": [
    "dat"
   ]
  },
  {
   "cell_type": "code",
   "execution_count": 159,
   "metadata": {},
   "outputs": [],
   "source": [
    "# subtract the mean of each column, from every value in the column\n",
    "\n",
    "q = np.mean(dat, axis =0)\n"
   ]
  },
  {
   "cell_type": "code",
   "execution_count": 160,
   "metadata": {},
   "outputs": [
    {
     "data": {
      "text/plain": [
       "(100,)"
      ]
     },
     "execution_count": 160,
     "metadata": {},
     "output_type": "execute_result"
    }
   ],
   "source": [
    "q.shape"
   ]
  },
  {
   "cell_type": "code",
   "execution_count": 161,
   "metadata": {},
   "outputs": [
    {
     "data": {
      "text/plain": [
       "(10, 100)"
      ]
     },
     "execution_count": 161,
     "metadata": {},
     "output_type": "execute_result"
    }
   ],
   "source": [
    "dat.shape"
   ]
  },
  {
   "cell_type": "code",
   "execution_count": 170,
   "metadata": {},
   "outputs": [],
   "source": [
    "q2 = np.tile(q, (10,1))"
   ]
  },
  {
   "cell_type": "code",
   "execution_count": 171,
   "metadata": {},
   "outputs": [
    {
     "data": {
      "text/plain": [
       "(10, 100)"
      ]
     },
     "execution_count": 171,
     "metadata": {},
     "output_type": "execute_result"
    }
   ],
   "source": [
    "q2.shape"
   ]
  },
  {
   "cell_type": "code",
   "execution_count": 173,
   "metadata": {},
   "outputs": [
    {
     "data": {
      "text/plain": [
       "array([[ 5.63654884e-02, -3.38652092e-01,  1.15302259e-01,\n",
       "         3.54983963e-01, -4.17014678e-01,  2.88729263e-01,\n",
       "        -2.46733688e-01, -2.60646262e-01, -3.46338865e-01,\n",
       "        -1.08319984e-01, -5.85337788e-02,  1.40244965e-01,\n",
       "         3.95203406e-01,  4.64111029e-01, -2.00630227e-02,\n",
       "        -4.11294501e-01, -3.85915060e-01, -2.12349700e-01,\n",
       "        -2.83561366e-01,  1.51539823e-01, -7.56223536e-02,\n",
       "         7.78687942e-02, -7.00196121e-02, -3.46291940e-02,\n",
       "         2.41695574e-01, -6.57550806e-02,  1.18774655e-01,\n",
       "        -5.08635462e-02, -5.83269632e-02, -2.22741868e-01,\n",
       "        -2.51730857e-02,  8.75970368e-02,  3.05232196e-01,\n",
       "         8.19518457e-02,  3.23030378e-01,  5.21634363e-01,\n",
       "        -2.95388420e-01,  9.54970818e-02,  4.87541331e-01,\n",
       "         6.59689456e-03, -5.72914808e-02, -3.29277727e-01,\n",
       "         1.66198522e-01, -1.14513688e-01,  3.73163134e-01,\n",
       "        -1.36130089e-01,  2.17240362e-01, -3.94369117e-01,\n",
       "        -7.90502379e-02, -6.52544253e-02,  3.19798870e-01,\n",
       "         2.41975781e-02,  2.04869026e-02, -7.12634174e-02,\n",
       "         2.38097431e-02,  3.38380530e-01,  6.86042426e-03,\n",
       "        -1.94757668e-01, -3.97546730e-01,  1.74524304e-01,\n",
       "        -3.40334186e-01, -2.80100173e-01, -2.77945585e-02,\n",
       "         1.16542946e-01, -6.19704128e-02, -1.22680204e-02,\n",
       "         3.28661460e-01,  4.29050369e-01,  8.26896077e-02,\n",
       "        -1.58400772e-01, -2.70383685e-01,  2.32780968e-01,\n",
       "         5.02850445e-01, -9.14410429e-02, -2.54395126e-01,\n",
       "         2.87227711e-01,  3.12311499e-01,  3.01450019e-01,\n",
       "         5.84539109e-01,  2.22503815e-01, -7.42976674e-03,\n",
       "         3.44040288e-02, -1.21313836e-01, -1.54212791e-01,\n",
       "        -4.49870101e-01,  1.69067425e-01,  5.01122105e-01,\n",
       "         9.58651271e-03, -2.36425733e-01,  3.34160899e-01,\n",
       "        -2.43136182e-01, -3.44768469e-01,  6.34267099e-02,\n",
       "         6.39037273e-02, -3.50934881e-01,  5.59247992e-01,\n",
       "         1.81179791e-01, -4.26237503e-01,  3.22057412e-01,\n",
       "         1.47837027e-01],\n",
       "       [ 3.64061823e-01, -4.53515887e-01, -5.92071881e-02,\n",
       "        -4.17688854e-01,  7.29877104e-02,  8.56711670e-02,\n",
       "        -3.73969598e-02,  4.10066899e-01,  2.17033019e-01,\n",
       "         3.53006312e-01,  2.85926146e-01, -5.95389602e-02,\n",
       "         3.75914286e-03,  2.68426760e-01,  2.38328970e-01,\n",
       "         4.19646244e-01,  6.05330180e-02, -2.43383947e-01,\n",
       "         2.22147625e-01, -4.56494885e-01, -3.87515487e-02,\n",
       "        -5.03043032e-02, -3.22298967e-01,  2.98049755e-01,\n",
       "        -5.18720917e-01, -2.78577566e-01,  3.01624196e-01,\n",
       "         3.84056416e-01,  1.24420711e-01, -1.80130507e-01,\n",
       "        -2.04516215e-02,  3.18682336e-01, -1.26613879e-01,\n",
       "        -3.75692147e-02,  4.65332834e-01, -3.76873725e-02,\n",
       "         9.64481819e-02, -1.79758464e-01, -3.90332236e-01,\n",
       "         5.44761223e-02,  1.49068802e-01,  3.37432506e-01,\n",
       "        -3.23883268e-01, -4.73681569e-02,  7.14570459e-02,\n",
       "        -1.88145100e-01,  4.21441499e-01, -2.65234417e-01,\n",
       "        -2.03301859e-01, -9.74430592e-02,  3.24226599e-01,\n",
       "        -1.54582027e-01,  6.59957473e-03,  7.24093842e-02,\n",
       "        -5.33851324e-01,  2.14246149e-01, -1.09892426e-01,\n",
       "         3.53848966e-01, -5.74748797e-02, -3.76002310e-01,\n",
       "         2.14854934e-01, -3.03826610e-01, -5.72718503e-02,\n",
       "        -6.56594403e-02,  1.81861558e-01,  9.03916113e-02,\n",
       "        -3.27891248e-01, -4.28656495e-01,  3.13299657e-01,\n",
       "         4.85424057e-01,  3.46490162e-02, -3.14731136e-01,\n",
       "         2.10171349e-01, -1.83327450e-01,  1.91225360e-01,\n",
       "         6.66186220e-02, -2.24743484e-01,  2.66484567e-01,\n",
       "         2.16014981e-02,  2.01144783e-01, -1.93831669e-01,\n",
       "         1.11117147e-01,  2.56756267e-01,  2.31654755e-02,\n",
       "         2.06037073e-01,  4.49765612e-02, -4.83933009e-01,\n",
       "         7.28049545e-02,  5.10822526e-01, -5.27310102e-01,\n",
       "        -2.16490499e-01,  4.18681472e-01,  3.67727020e-02,\n",
       "        -2.02090550e-02, -3.16540822e-01, -2.92779512e-01,\n",
       "         1.51298106e-01,  1.78309071e-01, -3.40233402e-01,\n",
       "         5.11877819e-02],\n",
       "       [ 5.29643671e-02, -3.67588503e-01,  1.14191434e-02,\n",
       "         1.78689861e-01, -3.90150247e-01,  3.43948367e-01,\n",
       "        -3.54795830e-01, -2.13823994e-01,  3.28969433e-01,\n",
       "        -1.57527881e-01,  3.56780177e-01, -1.54724960e-01,\n",
       "         3.37778405e-01, -2.98772386e-01, -3.47608735e-01,\n",
       "        -2.24802085e-01,  2.31395133e-01,  3.06929164e-01,\n",
       "        -2.40596549e-01,  3.04907453e-01, -7.76247596e-02,\n",
       "        -5.34525620e-02, -2.22015207e-01,  3.16292918e-01,\n",
       "         2.47683065e-01,  4.04358811e-01, -4.54718979e-01,\n",
       "         6.00405718e-02,  8.03690650e-02,  2.05112629e-01,\n",
       "         2.34336181e-01,  2.38189498e-01, -1.14074997e-02,\n",
       "         3.94331778e-01, -1.66235495e-01, -2.62443183e-02,\n",
       "        -3.66461494e-01, -1.03906373e-01,  4.26745023e-01,\n",
       "         1.14970284e-01, -2.34923088e-01, -2.16353204e-02,\n",
       "        -2.95409987e-01,  1.41027902e-01,  2.44512979e-01,\n",
       "        -2.50892983e-01,  1.14456509e-01,  6.34223158e-04,\n",
       "         3.79460905e-01, -2.10830055e-02, -5.10400300e-01,\n",
       "         2.76886726e-01,  2.15048258e-01,  1.54200247e-01,\n",
       "         3.72471248e-01, -4.02364825e-01, -5.14022982e-02,\n",
       "         1.75732861e-01,  3.00728062e-01,  2.50303812e-01,\n",
       "         2.13426043e-01,  2.35256762e-01, -4.62352976e-01,\n",
       "        -4.87284935e-01,  1.63078799e-01,  3.13065447e-01,\n",
       "        -2.86914559e-01, -6.98467882e-02,  1.28878929e-01,\n",
       "        -2.47999917e-01, -4.45567607e-01, -8.93756452e-02,\n",
       "         1.40393143e-01,  1.14016072e-01, -3.40244537e-01,\n",
       "        -2.38981299e-01,  7.12838329e-02, -4.49879322e-01,\n",
       "         3.55883051e-01, -3.55314212e-01,  4.81929758e-03,\n",
       "         2.55428277e-01, -4.15652420e-01,  3.99418920e-01,\n",
       "         1.43276980e-01,  5.57466521e-01, -3.63766336e-01,\n",
       "        -9.86446149e-02, -2.96289547e-01, -1.58037808e-01,\n",
       "         3.99484838e-01, -1.15792933e-01,  2.44654791e-01,\n",
       "         2.19261109e-01, -6.50372599e-02, -2.92278243e-01,\n",
       "         2.83601049e-01, -2.97099536e-01,  3.24572379e-01,\n",
       "        -2.02897227e-01],\n",
       "       [ 1.76004372e-01,  1.34713051e-01,  2.97283776e-01,\n",
       "        -3.46049233e-01,  3.63812649e-01, -3.77394882e-01,\n",
       "        -2.50570745e-01, -2.44213324e-01,  5.07473246e-01,\n",
       "         2.20374592e-02, -1.51823175e-01, -1.59201783e-01,\n",
       "        -1.95827862e-01,  1.09909993e-01,  1.17149619e-01,\n",
       "         1.61301848e-01,  1.42148499e-01,  3.78799724e-02,\n",
       "        -8.19252997e-02, -4.72995155e-01, -3.43558782e-01,\n",
       "        -5.08097883e-01, -2.18455879e-01, -4.19571736e-01,\n",
       "        -5.47353956e-01,  2.00381872e-01,  1.03513013e-02,\n",
       "         2.27872827e-01,  8.53914560e-02, -1.58326792e-01,\n",
       "        -1.40019931e-01, -2.47253642e-01, -1.51891342e-01,\n",
       "        -3.01752535e-01, -2.84917235e-01, -4.27625346e-01,\n",
       "         3.02220519e-01,  2.09996874e-01, -6.32598032e-02,\n",
       "        -5.25636080e-02, -2.33371494e-03, -2.47590468e-01,\n",
       "         3.71799565e-01,  1.05257885e-01, -2.71218061e-01,\n",
       "         8.04128556e-02, -3.27116551e-01, -2.26671964e-01,\n",
       "         9.46741483e-02, -5.20256098e-02, -2.67791702e-01,\n",
       "        -2.31225827e-01, -4.00963297e-01, -2.97449825e-01,\n",
       "         3.33732295e-01, -4.87431104e-02, -1.41453152e-01,\n",
       "        -2.35517051e-01, -1.75937709e-01,  1.02080926e-01,\n",
       "        -2.17346738e-01,  3.83980563e-01, -2.17999321e-01,\n",
       "         7.82159787e-02,  2.63272531e-02, -3.26491507e-01,\n",
       "        -4.20514590e-01, -4.78324636e-02,  1.57930881e-01,\n",
       "         2.94503087e-01, -1.78683472e-01, -1.23885025e-01,\n",
       "        -3.09195145e-01,  4.35396376e-01,  3.28823178e-02,\n",
       "        -1.58079262e-01, -4.26435220e-01, -5.11311775e-01,\n",
       "        -3.66462015e-01, -4.56096345e-01,  3.66281881e-01,\n",
       "         2.43826602e-02,  3.30015969e-01, -1.71603701e-01,\n",
       "        -2.54632690e-01, -3.81983079e-01,  8.30468665e-02,\n",
       "         3.80712464e-01,  4.15101450e-02,  1.14189153e-01,\n",
       "        -5.52055154e-02, -4.63469828e-01,  2.92173706e-01,\n",
       "         2.46980075e-01,  1.72377547e-01,  5.59182007e-01,\n",
       "         2.54201832e-01,  4.22833507e-01, -2.38940981e-01,\n",
       "         2.42456596e-01],\n",
       "       [-5.29049225e-02,  3.41325479e-01,  1.87530738e-01,\n",
       "         4.65560496e-02,  3.66714232e-01, -2.35143089e-01,\n",
       "         3.19501443e-01, -3.67181032e-01,  4.57843016e-01,\n",
       "         2.65620011e-01, -4.07519131e-01,  5.30298938e-01,\n",
       "        -3.02392127e-01, -3.45737099e-01,  9.04716111e-02,\n",
       "         3.64984738e-01, -6.38916518e-02, -2.41585226e-01,\n",
       "         5.38743976e-01,  9.16030533e-02,  4.72329916e-01,\n",
       "         4.19910951e-01,  6.08656120e-02,  1.54264948e-01,\n",
       "        -2.33120507e-01, -4.85598738e-02,  8.81594653e-02,\n",
       "        -3.31371258e-01, -1.35643567e-01,  2.61677413e-01,\n",
       "        -1.00030224e-01, -1.01076056e-01, -3.71781678e-01,\n",
       "         5.87180518e-02,  3.89458066e-02,  4.65956353e-01,\n",
       "        -2.31457836e-01,  7.88805126e-02, -4.54323642e-01,\n",
       "        -2.62997220e-01, -3.27615677e-01, -8.04788097e-02,\n",
       "        -2.41062395e-01, -3.29228239e-01, -4.15225812e-01,\n",
       "        -2.09436718e-01, -1.19703596e-01,  2.90350656e-01,\n",
       "         1.61346894e-02,  3.61310712e-01,  1.34757086e-01,\n",
       "         2.64491864e-01, -1.11749988e-02,  1.47412686e-01,\n",
       "        -6.89887015e-02,  1.31223080e-01, -4.27570187e-01,\n",
       "        -8.51605879e-03,  3.26964330e-01,  5.25283891e-02,\n",
       "        -1.29217029e-01,  4.09798933e-01,  1.93840891e-01,\n",
       "        -1.13140201e-01, -2.69682716e-01, -2.20898332e-01,\n",
       "         2.10249965e-01, -4.37700369e-01, -1.50362642e-02,\n",
       "        -2.37331587e-01,  2.33092983e-02,  3.26360775e-01,\n",
       "        -2.91070300e-01, -9.64234114e-02,  1.25001821e-01,\n",
       "         8.36391445e-02,  2.44383646e-01,  1.80451761e-01,\n",
       "        -3.22578046e-01,  4.54722095e-01, -8.77062364e-02,\n",
       "         3.13391567e-01, -4.41671840e-01,  2.15447321e-01,\n",
       "        -2.03794612e-01, -3.84358520e-01, -1.26601645e-02,\n",
       "         4.70894239e-01,  9.08200605e-02,  2.85850888e-01,\n",
       "        -2.87314271e-01, -8.27591827e-03, -2.66817809e-01,\n",
       "        -3.12986475e-01, -3.77839561e-01, -3.69813951e-01,\n",
       "        -4.36750254e-02,  5.77018241e-02,  2.43945209e-02,\n",
       "         4.83927051e-01],\n",
       "       [ 1.86413619e-01,  3.86427752e-01,  1.92729930e-01,\n",
       "        -2.31425704e-01, -4.83810449e-01, -3.84411497e-01,\n",
       "        -1.97698172e-01, -3.76180078e-01, -3.01188454e-01,\n",
       "         3.13475366e-01, -8.67719050e-02,  1.70527810e-01,\n",
       "        -2.98731474e-03,  4.64489072e-01,  5.53831258e-01,\n",
       "        -3.59372911e-01,  2.44449644e-01, -1.22165230e-01,\n",
       "        -1.10390267e-01,  4.39026656e-01, -8.49537332e-02,\n",
       "         2.69542421e-01,  5.36081213e-03,  4.23254491e-03,\n",
       "         6.71221657e-02, -1.74589543e-02, -1.08447484e-01,\n",
       "         7.56912402e-02,  8.72562548e-02, -1.16522993e-01,\n",
       "        -1.17828921e-01, -4.11898887e-01,  1.30306808e-01,\n",
       "         1.02680236e-01,  3.40929414e-01,  4.56802128e-01,\n",
       "         1.24501696e-01,  3.82843876e-02,  1.19689946e-01,\n",
       "        -1.53276973e-01,  1.17708877e-01, -1.14642026e-02,\n",
       "         2.36146875e-04, -2.24871966e-01,  1.80921719e-01,\n",
       "        -2.65037077e-01, -8.50238547e-02,  4.89456536e-01,\n",
       "        -2.75378028e-02,  3.18207236e-01, -5.08492988e-01,\n",
       "         1.55533086e-01,  4.44424503e-01,  3.88471018e-01,\n",
       "        -2.71985330e-01,  8.36649481e-02,  3.99491993e-01,\n",
       "        -2.91019865e-01, -2.60909028e-01, -3.42475508e-01,\n",
       "        -1.29787597e-01, -2.97540246e-01, -2.40163859e-01,\n",
       "         9.10097618e-02, -1.33452797e-01, -3.20768861e-01,\n",
       "        -8.39040091e-02,  8.65548559e-02, -1.71958864e-01,\n",
       "        -3.64500323e-02,  5.21485236e-01, -3.01840764e-01,\n",
       "        -1.38799119e-01,  3.93333013e-01,  4.26395141e-01,\n",
       "        -1.68985875e-01,  1.75771380e-01, -2.50688388e-01,\n",
       "        -1.95029387e-01, -1.53854826e-01,  1.35739220e-01,\n",
       "         3.34592441e-01,  3.18595333e-01, -2.95227293e-01,\n",
       "         2.83023618e-01,  4.49111268e-01,  3.96730855e-01,\n",
       "        -5.23942992e-01, -1.92351743e-01,  3.73771368e-01,\n",
       "         8.15494418e-02,  2.17051923e-01, -3.75162196e-01,\n",
       "        -2.11459432e-01, -3.38585135e-01, -1.74969008e-01,\n",
       "        -4.60573631e-01,  4.80852087e-01,  3.45079736e-01,\n",
       "        -9.83873309e-02],\n",
       "       [-3.42781736e-01,  4.00733493e-01,  4.51321396e-02,\n",
       "         2.36508391e-01, -6.49822217e-02,  1.45374919e-01,\n",
       "         2.85127752e-01,  2.17957285e-01, -3.69502430e-01,\n",
       "        -4.24645337e-01,  1.10396976e-01, -4.55496164e-02,\n",
       "         5.12578704e-01, -1.29257580e-01, -3.57964557e-01,\n",
       "         4.04395872e-01, -4.18340062e-01,  9.51577020e-02,\n",
       "        -1.73188685e-01,  3.54505341e-03,  1.38178519e-01,\n",
       "        -8.03389636e-02,  4.48305511e-01,  8.60461176e-02,\n",
       "         1.94168189e-01, -1.43512861e-01, -4.50863239e-01,\n",
       "         1.42244222e-01,  9.97657246e-03, -1.39494385e-01,\n",
       "         4.41451307e-01, -5.43739973e-01, -1.60831931e-02,\n",
       "        -3.45988032e-01, -1.71865476e-01, -3.01605710e-01,\n",
       "         7.83228802e-02, -1.56755363e-01,  9.85490434e-02,\n",
       "         8.72879358e-02,  9.65793760e-02, -5.42548062e-02,\n",
       "         1.38721315e-01,  4.54042879e-01,  2.25568363e-01,\n",
       "         3.69230202e-01,  4.18036985e-01, -1.28573333e-01,\n",
       "        -1.76567474e-01,  6.89991751e-02,  2.67193014e-01,\n",
       "        -2.04806844e-01, -4.16565370e-01, -4.40695708e-01,\n",
       "        -3.97312825e-01,  2.34655463e-01, -2.96704853e-01,\n",
       "         6.35823661e-01, -1.31492992e-01, -3.10298489e-01,\n",
       "         1.37589960e-01, -1.04620152e-01,  4.96866126e-01,\n",
       "         3.11223128e-01, -8.80188170e-02, -2.15952376e-01,\n",
       "         1.07648820e-01,  3.78985069e-02, -1.24368074e-02,\n",
       "         2.44402188e-01,  7.47128126e-02,  2.79178175e-01,\n",
       "         1.86682361e-01, -2.17067230e-02, -3.70746068e-01,\n",
       "         4.80885580e-02,  3.85398772e-01,  6.25049160e-03,\n",
       "         3.28158856e-01, -3.17740726e-01, -1.57404016e-01,\n",
       "        -3.00431547e-01,  3.25104149e-01, -1.83578415e-01,\n",
       "         3.00431043e-02, -2.53724974e-01,  3.71003949e-01,\n",
       "        -2.24383934e-01,  4.10708280e-01, -2.32493132e-01,\n",
       "         3.06267805e-02,  3.38212776e-01,  2.74599085e-01,\n",
       "        -3.86125877e-01,  5.51412655e-01,  3.35813291e-01,\n",
       "        -4.18581426e-01, -4.17605511e-01, -7.37862034e-02,\n",
       "        -2.82980949e-01],\n",
       "       [-1.80143460e-01, -3.67805329e-01, -1.48697117e-01,\n",
       "        -9.37785646e-03,  2.20642508e-01, -1.12374406e-01,\n",
       "         4.36262556e-01,  1.92368033e-01, -4.34492189e-01,\n",
       "        -1.04746115e-01, -3.24622179e-01, -3.23759643e-01,\n",
       "        -1.85706576e-01, -7.53209975e-02, -1.97249268e-01,\n",
       "        -3.71575615e-01,  2.68855892e-01, -1.22902280e-01,\n",
       "        -1.23040336e-01, -1.93597667e-01,  2.77718963e-01,\n",
       "         2.10042993e-01, -2.27505221e-01,  5.66696706e-02,\n",
       "         3.77151982e-01, -1.59374798e-01,  3.94406384e-01,\n",
       "         2.49766458e-01, -3.12314013e-01,  4.14398839e-01,\n",
       "        -3.04931500e-01,  2.53207432e-01, -2.73467237e-01,\n",
       "        -4.08256208e-01, -4.02529051e-01,  1.74762181e-01,\n",
       "        -5.83137243e-02,  3.43276178e-03,  4.53152910e-01,\n",
       "         3.44620547e-01,  2.38939780e-01, -1.60814115e-01,\n",
       "        -2.54250064e-01, -1.16696935e-05, -2.50046304e-01,\n",
       "        -6.88383159e-02, -5.38468054e-01,  1.18311999e-01,\n",
       "         1.50512648e-01, -4.63081938e-02,  4.38683722e-01,\n",
       "        -2.31287387e-01,  3.47414286e-01, -5.71553162e-01,\n",
       "        -5.72276760e-02, -2.78112943e-01,  3.13131052e-01,\n",
       "         2.09678242e-02,  5.47514609e-01,  2.81361214e-01,\n",
       "         2.51136545e-01, -4.16934282e-01,  9.47324203e-02,\n",
       "         1.15913532e-01,  8.39073125e-02,  4.90873573e-01,\n",
       "         1.71449223e-01,  2.68541335e-02, -2.99831351e-02,\n",
       "         1.28770387e-01,  1.60648590e-01, -3.48807824e-01,\n",
       "         2.98549719e-01, -3.90889558e-01, -1.67897978e-02,\n",
       "        -4.15672783e-01, -4.70226161e-01,  8.37675542e-02,\n",
       "        -3.63903546e-01,  2.28035045e-01, -3.20138212e-02,\n",
       "        -2.68331112e-01,  2.36647923e-01,  1.27899452e-01,\n",
       "         3.31135582e-01, -1.98955443e-02, -3.91533311e-01,\n",
       "        -1.17852929e-01,  1.33064324e-01, -1.95347346e-01,\n",
       "         1.72562137e-01, -3.68147757e-01,  5.70702652e-02,\n",
       "         3.78989416e-01, -1.13271270e-01,  2.64981620e-01,\n",
       "        -2.51221804e-01,  2.56058885e-01, -2.80733273e-01,\n",
       "        -2.54316784e-01],\n",
       "       [ 1.73151530e-01,  2.54644282e-01, -4.68703945e-01,\n",
       "        -2.11580361e-01,  3.57401024e-02,  1.49665456e-02,\n",
       "         1.50974171e-01,  3.99165018e-01,  2.16834724e-01,\n",
       "         2.16347872e-01,  3.34448274e-02,  1.24561270e-01,\n",
       "        -4.42924383e-01, -1.77929115e-01, -3.01529809e-01,\n",
       "         8.39072551e-02, -4.38270191e-01, -1.72940421e-02,\n",
       "         1.76993210e-01,  4.74928086e-01,  2.15871710e-02,\n",
       "        -2.87384359e-01,  4.25201970e-01, -1.53795878e-01,\n",
       "        -1.53784053e-01,  2.96853147e-01,  4.01774112e-01,\n",
       "        -3.65549193e-01, -3.21030837e-01,  1.29061380e-01,\n",
       "         2.22760062e-01,  1.97181853e-01,  5.24461026e-01,\n",
       "         4.87779113e-01,  2.91275672e-01, -4.25294758e-01,\n",
       "         9.64501438e-02,  2.35449962e-01, -3.99050505e-01,\n",
       "        -8.39878444e-02, -3.72285242e-01,  3.45617508e-01,\n",
       "         1.07194425e-01,  3.30795083e-01,  1.84196793e-01,\n",
       "         2.69213001e-01,  2.61339288e-03, -1.69726043e-01,\n",
       "        -1.43935871e-01, -4.64896855e-01, -3.18609453e-01,\n",
       "         6.49127022e-02, -7.55173835e-02,  2.83767996e-01,\n",
       "         3.01668315e-01, -3.83061355e-01,  3.86944964e-01,\n",
       "        -2.25093456e-01,  1.49301291e-01, -2.59635196e-01,\n",
       "        -2.09673147e-01, -5.84326020e-02,  2.89374207e-01,\n",
       "        -1.89895127e-01,  3.43548165e-02,  1.88341232e-01,\n",
       "         5.03820385e-01,  2.72993269e-01, -2.31643737e-01,\n",
       "        -4.67946587e-01,  4.46803325e-01,  1.56857613e-01,\n",
       "        -3.22269966e-01, -1.65791798e-01,  4.35868096e-01,\n",
       "         1.74041305e-01,  1.78977414e-01,  2.41646879e-01,\n",
       "        -1.95774372e-02,  1.63807305e-02, -8.13669823e-02,\n",
       "        -1.82650898e-01, -3.47558675e-01,  2.96232359e-01,\n",
       "        -4.25703462e-01,  1.71387687e-01,  6.97317243e-02,\n",
       "         2.95309085e-02, -2.26048796e-01, -3.12908536e-01,\n",
       "        -1.44295417e-01,  2.84700258e-01,  1.45315711e-01,\n",
       "        -3.06563470e-01,  3.63580221e-01, -3.47257143e-01,\n",
       "         7.40196692e-02, -4.47149809e-01, -1.47232296e-01,\n",
       "         1.60285364e-01],\n",
       "       [-4.33131082e-01,  9.71775331e-03, -1.72789736e-01,\n",
       "         3.99383744e-01,  2.96060393e-01,  2.30633612e-01,\n",
       "        -1.04670528e-01,  2.42487455e-01, -2.76631502e-01,\n",
       "        -3.75247704e-01,  2.42722043e-01, -2.22858022e-01,\n",
       "        -1.19481395e-01, -2.79919677e-01,  2.24633933e-01,\n",
       "        -6.71908448e-02,  3.59034778e-01,  5.19713586e-01,\n",
       "         7.48176907e-02, -3.42462416e-01, -2.89303392e-01,\n",
       "         2.21291208e-03,  1.20560980e-01, -3.07559146e-01,\n",
       "         3.25158457e-01, -1.88354695e-01, -3.01060411e-01,\n",
       "        -3.91887739e-01,  4.39901321e-01, -1.93033715e-01,\n",
       "        -1.90112266e-01,  2.09110402e-01, -8.75520225e-03,\n",
       "        -3.18950352e-02, -4.33966848e-01, -4.00697521e-01,\n",
       "         2.53678053e-01, -2.21121379e-01, -2.78712069e-01,\n",
       "        -5.51261378e-02,  3.92152368e-01,  2.22465434e-01,\n",
       "         3.30455741e-01, -3.15130030e-01, -3.43329857e-01,\n",
       "         3.99624223e-01, -1.03476692e-01,  2.85821459e-01,\n",
       "        -1.03891454e-02, -1.50597530e-03,  1.20635153e-01,\n",
       "         3.58801290e-02, -1.29752475e-01,  3.34700781e-01,\n",
       "         2.97684256e-01,  1.10112063e-01, -7.94055159e-02,\n",
       "        -2.31469213e-01, -3.01146953e-01,  4.27612858e-01,\n",
       "         2.09351215e-01,  4.32417807e-01, -6.92310798e-02,\n",
       "         1.43074357e-01,  6.35950034e-02,  1.37072344e-02,\n",
       "        -2.02605447e-01,  1.30684983e-01, -2.21740267e-01,\n",
       "        -4.97082152e-03, -3.66973514e-01,  1.83462863e-01,\n",
       "        -2.77312487e-01,  6.83452140e-03, -2.29197207e-01,\n",
       "         3.22103880e-01, -2.46721677e-01,  1.31828213e-01,\n",
       "        -2.26320831e-02,  1.60219639e-01,  5.29120929e-02,\n",
       "        -3.21902564e-01, -1.40922869e-01, -2.57541329e-01,\n",
       "         3.40484508e-01, -3.52047345e-01, -1.69742679e-01,\n",
       "         1.29539135e-03, -2.35809515e-01,  3.18124617e-01,\n",
       "         2.62218687e-01,  4.18084757e-02, -4.72032965e-01,\n",
       "         3.28209982e-01,  4.74838505e-01, -2.42127053e-01,\n",
       "         2.29751439e-01,  1.92336985e-01,  6.48221071e-02,\n",
       "        -2.47111529e-01]])"
      ]
     },
     "execution_count": 173,
     "metadata": {},
     "output_type": "execute_result"
    }
   ],
   "source": [
    "dat - q2"
   ]
  },
  {
   "cell_type": "code",
   "execution_count": null,
   "metadata": {},
   "outputs": [],
   "source": [
    "# a_column = a[:, np.newaxis]"
   ]
  },
  {
   "cell_type": "code",
   "execution_count": 174,
   "metadata": {},
   "outputs": [],
   "source": [
    "# subtract the mean of each column, from every value in the column\n",
    "r = np.mean(dat, axis =1)"
   ]
  },
  {
   "cell_type": "code",
   "execution_count": 175,
   "metadata": {},
   "outputs": [
    {
     "data": {
      "text/plain": [
       "(10,)"
      ]
     },
     "execution_count": 175,
     "metadata": {},
     "output_type": "execute_result"
    }
   ],
   "source": [
    "r.shape"
   ]
  },
  {
   "cell_type": "code",
   "execution_count": 176,
   "metadata": {},
   "outputs": [
    {
     "data": {
      "text/plain": [
       "(10, 100)"
      ]
     },
     "execution_count": 176,
     "metadata": {},
     "output_type": "execute_result"
    }
   ],
   "source": [
    "dat.shape"
   ]
  },
  {
   "cell_type": "code",
   "execution_count": 177,
   "metadata": {},
   "outputs": [
    {
     "data": {
      "image/png": "[encoded data removed]",
      "text/plain": [
       "<Figure size 432x288 with 1 Axes>"
      ]
     },
     "metadata": {},
     "output_type": "display_data"
    }
   ],
   "source": [
    "image = matplotlib.pyplot.imshow(dat)"
   ]
  },
  {
   "cell_type": "code",
   "execution_count": 179,
   "metadata": {},
   "outputs": [],
   "source": [
    "x = np.arange(11)"
   ]
  },
  {
   "cell_type": "code",
   "execution_count": 180,
   "metadata": {},
   "outputs": [
    {
     "data": {
      "text/plain": [
       "array([ 0,  1,  2,  3,  4,  5,  6,  7,  8,  9, 10])"
      ]
     },
     "execution_count": 180,
     "metadata": {},
     "output_type": "execute_result"
    }
   ],
   "source": [
    "x"
   ]
  },
  {
   "cell_type": "code",
   "execution_count": 181,
   "metadata": {},
   "outputs": [],
   "source": [
    "y = np.arange(11)[:, np.newaxis]"
   ]
  },
  {
   "cell_type": "code",
   "execution_count": 182,
   "metadata": {},
   "outputs": [
    {
     "data": {
      "text/plain": [
       "array([[ 0],\n",
       "       [ 1],\n",
       "       [ 2],\n",
       "       [ 3],\n",
       "       [ 4],\n",
       "       [ 5],\n",
       "       [ 6],\n",
       "       [ 7],\n",
       "       [ 8],\n",
       "       [ 9],\n",
       "       [10]])"
      ]
     },
     "execution_count": 182,
     "metadata": {},
     "output_type": "execute_result"
    }
   ],
   "source": [
    "y"
   ]
  },
  {
   "cell_type": "code",
   "execution_count": 183,
   "metadata": {},
   "outputs": [],
   "source": [
    "distance = np.sqrt(x**2 + y**2)"
   ]
  },
  {
   "cell_type": "code",
   "execution_count": 184,
   "metadata": {},
   "outputs": [
    {
     "data": {
      "text/plain": [
       "array([[ 0.        ,  1.        ,  2.        ,  3.        ,  4.        ,\n",
       "         5.        ,  6.        ,  7.        ,  8.        ,  9.        ,\n",
       "        10.        ],\n",
       "       [ 1.        ,  1.41421356,  2.23606798,  3.16227766,  4.12310563,\n",
       "         5.09901951,  6.08276253,  7.07106781,  8.06225775,  9.05538514,\n",
       "        10.04987562],\n",
       "       [ 2.        ,  2.23606798,  2.82842712,  3.60555128,  4.47213595,\n",
       "         5.38516481,  6.32455532,  7.28010989,  8.24621125,  9.21954446,\n",
       "        10.19803903],\n",
       "       [ 3.        ,  3.16227766,  3.60555128,  4.24264069,  5.        ,\n",
       "         5.83095189,  6.70820393,  7.61577311,  8.54400375,  9.48683298,\n",
       "        10.44030651],\n",
       "       [ 4.        ,  4.12310563,  4.47213595,  5.        ,  5.65685425,\n",
       "         6.40312424,  7.21110255,  8.06225775,  8.94427191,  9.8488578 ,\n",
       "        10.77032961],\n",
       "       [ 5.        ,  5.09901951,  5.38516481,  5.83095189,  6.40312424,\n",
       "         7.07106781,  7.81024968,  8.60232527,  9.43398113, 10.29563014,\n",
       "        11.18033989],\n",
       "       [ 6.        ,  6.08276253,  6.32455532,  6.70820393,  7.21110255,\n",
       "         7.81024968,  8.48528137,  9.21954446, 10.        , 10.81665383,\n",
       "        11.66190379],\n",
       "       [ 7.        ,  7.07106781,  7.28010989,  7.61577311,  8.06225775,\n",
       "         8.60232527,  9.21954446,  9.89949494, 10.63014581, 11.40175425,\n",
       "        12.20655562],\n",
       "       [ 8.        ,  8.06225775,  8.24621125,  8.54400375,  8.94427191,\n",
       "         9.43398113, 10.        , 10.63014581, 11.3137085 , 12.04159458,\n",
       "        12.80624847],\n",
       "       [ 9.        ,  9.05538514,  9.21954446,  9.48683298,  9.8488578 ,\n",
       "        10.29563014, 10.81665383, 11.40175425, 12.04159458, 12.72792206,\n",
       "        13.45362405],\n",
       "       [10.        , 10.04987562, 10.19803903, 10.44030651, 10.77032961,\n",
       "        11.18033989, 11.66190379, 12.20655562, 12.80624847, 13.45362405,\n",
       "        14.14213562]])"
      ]
     },
     "execution_count": 184,
     "metadata": {},
     "output_type": "execute_result"
    }
   ],
   "source": [
    "distance"
   ]
  },
  {
   "cell_type": "code",
   "execution_count": 185,
   "metadata": {},
   "outputs": [
    {
     "name": "stdout",
     "output_type": "stream",
     "text": [
      "Help on NoneType object:\n",
      "\n",
      "class NoneType(object)\n",
      " |  Methods defined here:\n",
      " |  \n",
      " |  __bool__(self, /)\n",
      " |      self != 0\n",
      " |  \n",
      " |  __new__(*args, **kwargs) from builtins.type\n",
      " |      Create and return a new object.  See help(type) for accurate signature.\n",
      " |  \n",
      " |  __repr__(self, /)\n",
      " |      Return repr(self).\n",
      "\n"
     ]
    }
   ],
   "source": [
    "help(np.newaxis)"
   ]
  }
 ],
 "metadata": {
  "kernelspec": {
   "display_name": "Python 3",
   "language": "python",
   "name": "python3"
  },
  "language_info": {
   "codemirror_mode": {
    "name": "ipython",
    "version": 3
   },
   "file_extension": ".py",
   "mimetype": "text/x-python",
   "name": "python",
   "nbconvert_exporter": "python",
   "pygments_lexer": "ipython3",
   "version": "3.6.5"
  }
 },
 "nbformat": 4,
 "nbformat_minor": 2
}
